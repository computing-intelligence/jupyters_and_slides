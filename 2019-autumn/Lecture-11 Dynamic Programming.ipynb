{
 "cells": [
  {
   "cell_type": "markdown",
   "metadata": {},
   "source": [
    "## Lecture-11 Dynamic Programming"
   ]
  },
  {
   "cell_type": "code",
   "execution_count": 229,
   "metadata": {},
   "outputs": [],
   "source": [
    "original_price = [1, 5, 8, 9, 10, 17, 17, 20, 24, 30, 33] # add length is 11, its price is 35 "
   ]
  },
  {
   "attachments": {
    "image.png": {
     "image/png": "[encoded data removed]"
    }
   },
   "cell_type": "markdown",
   "metadata": {},
   "source": [
    "![]()![image.png](attachment:image.png)"
   ]
  },
  {
   "cell_type": "code",
   "execution_count": 230,
   "metadata": {},
   "outputs": [],
   "source": [
    "from collections import defaultdict"
   ]
  },
  {
   "cell_type": "markdown",
   "metadata": {},
   "source": [
    "### 万一输入的长度，在表里没有的话，这样不至于报错"
   ]
  },
  {
   "cell_type": "code",
   "execution_count": 231,
   "metadata": {},
   "outputs": [],
   "source": [
    "price = defaultdict(int)"
   ]
  },
  {
   "cell_type": "code",
   "execution_count": 232,
   "metadata": {},
   "outputs": [],
   "source": [
    "for i, p in enumerate(original_price): \n",
    "    price[i + 1] = p"
   ]
  },
  {
   "cell_type": "code",
   "execution_count": 233,
   "metadata": {},
   "outputs": [
    {
     "data": {
      "text/plain": [
       "0"
      ]
     },
     "execution_count": 233,
     "metadata": {},
     "output_type": "execute_result"
    }
   ],
   "source": [
    "price[12]"
   ]
  },
  {
   "cell_type": "markdown",
   "metadata": {},
   "source": [
    "## Get the max splitting by enumerate"
   ]
  },
  {
   "cell_type": "code",
   "execution_count": 33,
   "metadata": {},
   "outputs": [],
   "source": [
    "def r(n): \n",
    "    # get the optimal revenue given length n\n",
    "    return max(\n",
    "        [price[n]] + [r(i) + r(n-i) for i in range(1, n)]\n",
    "    )"
   ]
  },
  {
   "cell_type": "markdown",
   "metadata": {},
   "source": [
    "$$ revenue(3) = max(price(3), revenue(2) + revenue(1))$$"
   ]
  },
  {
   "cell_type": "markdown",
   "metadata": {},
   "source": [
    "$$ revenue(4) = max(price(4), revenue(3) + revenue(1),  revenue(2) + revenue(2))$$"
   ]
  },
  {
   "cell_type": "markdown",
   "metadata": {},
   "source": [
    "```\n",
    "n = 100\n",
    "revenue(n) -- revenue(n-1), revenue(1)\n",
    "           -- revenue(n-2), revenue(2)\n",
    "           -- revenue(n-3), revenue(3)\n",
    "           ....\n",
    "```"
   ]
  },
  {
   "cell_type": "code",
   "execution_count": 45,
   "metadata": {},
   "outputs": [
    {
     "data": {
      "text/plain": [
       "10"
      ]
     },
     "execution_count": 45,
     "metadata": {},
     "output_type": "execute_result"
    }
   ],
   "source": [
    "r(4)"
   ]
  },
  {
   "cell_type": "code",
   "execution_count": 51,
   "metadata": {},
   "outputs": [
    {
     "data": {
      "text/plain": [
       "43"
      ]
     },
     "execution_count": 51,
     "metadata": {},
     "output_type": "execute_result"
    }
   ],
   "source": [
    "r(14)"
   ]
  },
  {
   "cell_type": "code",
   "execution_count": null,
   "metadata": {},
   "outputs": [],
   "source": [
    "r(20) "
   ]
  },
  {
   "cell_type": "markdown",
   "metadata": {},
   "source": [
    "```\n",
    "n = 100\n",
    "revenue(n) -- revenue(n-1), revenue(1)\n",
    "           -- revenue(n-2), revenue(2)\n",
    "           -- revenue(n-3), revenue(3)\n",
    "           ....\n",
    "```"
   ]
  },
  {
   "cell_type": "markdown",
   "metadata": {},
   "source": [
    "```\n",
    "T(f(n)) = T(f(n-1)) + T(f(n-2)) + .. T(f(2))\n",
    "f(n-1) = f(n-2) * C\n",
    "f(n-2) = f(n-3) * C\n",
    "...\n",
    "f(1) = C\n",
    "\n",
    "f(n) = C^n\n",
    "```"
   ]
  },
  {
   "cell_type": "markdown",
   "metadata": {},
   "source": [
    "```\n",
    "T(f(n)) = (n-1)f(i)\n",
    "f(n-1) = (n-2)f(i)\n",
    "f(n-2) = (n-2)f(i)\n",
    "...\n",
    "f(1) = C\n",
    "\n",
    "(n-1)^n\n",
    "```"
   ]
  },
  {
   "cell_type": "markdown",
   "metadata": {},
   "source": [
    "## Analysis: How to optimize"
   ]
  },
  {
   "cell_type": "markdown",
   "metadata": {},
   "source": [
    "![](imgs/rod.png)"
   ]
  },
  {
   "cell_type": "markdown",
   "metadata": {},
   "source": [
    "## A Simpler Problem"
   ]
  },
  {
   "cell_type": "markdown",
   "metadata": {},
   "source": [
    "![](imgs/f.png)"
   ]
  },
  {
   "cell_type": "markdown",
   "metadata": {},
   "source": [
    "#### We could make Fib Problem quick very easy!"
   ]
  },
  {
   "cell_type": "code",
   "execution_count": 52,
   "metadata": {},
   "outputs": [],
   "source": [
    "# fib\n",
    "\n",
    "def fib(n):\n",
    "    if n <= 1: return n\n",
    "    else:\n",
    "        return fib(n-1) + fib(n-2)"
   ]
  },
  {
   "cell_type": "markdown",
   "metadata": {},
   "source": [
    "```\n",
    "f(n) = f(n/2) + f(n/2) \n",
    "--> nlogn\n",
    "\n",
    "f(n) = f(n-1) + f(n-2) + f(n-3) + ..f(1)\n",
    "--> T(n) => O(n!)\n",
    "\n",
    "f(n) = f(n/2) + f(n/2) + f(n-2) + f(n-3) \n",
    "--> O(nlogn) + O(n!)\n",
    "--> O(n!)\n",
    "```"
   ]
  },
  {
   "cell_type": "markdown",
   "metadata": {},
   "source": [
    "## merge sort -> T(n) = NlogN"
   ]
  },
  {
   "cell_type": "code",
   "execution_count": null,
   "metadata": {},
   "outputs": [],
   "source": []
  },
  {
   "cell_type": "code",
   "execution_count": 63,
   "metadata": {},
   "outputs": [
    {
     "data": {
      "text/plain": [
       "55"
      ]
     },
     "execution_count": 63,
     "metadata": {},
     "output_type": "execute_result"
    }
   ],
   "source": [
    "fib(10)"
   ]
  },
  {
   "cell_type": "markdown",
   "metadata": {},
   "source": [
    "## decorator"
   ]
  },
  {
   "cell_type": "code",
   "execution_count": 65,
   "metadata": {},
   "outputs": [],
   "source": [
    "import time"
   ]
  },
  {
   "cell_type": "code",
   "execution_count": 77,
   "metadata": {},
   "outputs": [],
   "source": [
    "def complexity_computing(n):\n",
    "    time.sleep(0.5) \n",
    "\n",
    "    return n ** 2\n",
    "\n",
    "complexity_computing = get_time(complexity_computing)\n",
    "# 1. 我们不需要把每一个需要加打印时间的函数的源代码都改一遍，我们是在函数之外 加的东西\n",
    "# 2. 我们也不需要把调用这个函数的其他函数进行修改"
   ]
  },
  {
   "cell_type": "code",
   "execution_count": 121,
   "metadata": {},
   "outputs": [],
   "source": [
    "@get_time\n",
    "def complexity_computing(n):\n",
    "    \"\"\"I am a very complex function\"\"\"\n",
    "    time.sleep(0.5) \n",
    "\n",
    "    return n ** 2\n",
    "\n",
    "#complexity_computing = get_time(complexity_computing)\n",
    "# 1. 我们不需要把每一个需要加打印时间的函数的源代码都改一遍，我们是在函数之外 加的东西\n",
    "# 2. 我们也不需要把调用这个函数的其他函数进行修改"
   ]
  },
  {
   "cell_type": "code",
   "execution_count": 137,
   "metadata": {},
   "outputs": [],
   "source": [
    "def send_login_info(f):\n",
    "    send_login_info.called_time = defaultdict(int)\n",
    "    def wrap(*arg, **kwargs):\n",
    "        print('sending to server, the function {} is called'.format(f.__name__))\n",
    "        send_login_info.called_time[f.__name__] += 1\n",
    "        return f(*arg, **kwargs)\n",
    "    return wrap"
   ]
  },
  {
   "cell_type": "code",
   "execution_count": 159,
   "metadata": {},
   "outputs": [],
   "source": [
    "@send_login_info\n",
    "def f1(n): return n + 1\n",
    "\n",
    "@send_login_info\n",
    "def f2(n): return n + 2"
   ]
  },
  {
   "cell_type": "code",
   "execution_count": 182,
   "metadata": {},
   "outputs": [],
   "source": [
    "def f3(n): return n + 3"
   ]
  },
  {
   "cell_type": "code",
   "execution_count": 183,
   "metadata": {},
   "outputs": [],
   "source": [
    "f3 = send_login_info(f3)"
   ]
  },
  {
   "cell_type": "code",
   "execution_count": 184,
   "metadata": {},
   "outputs": [
    {
     "name": "stdout",
     "output_type": "stream",
     "text": [
      "Help on function wrap in module __main__:\n",
      "\n",
      "wrap(*arg, **kwargs)\n",
      "\n"
     ]
    }
   ],
   "source": [
    "help(f2)"
   ]
  },
  {
   "cell_type": "code",
   "execution_count": 185,
   "metadata": {},
   "outputs": [
    {
     "name": "stdout",
     "output_type": "stream",
     "text": [
      "Help on function wrap in module __main__:\n",
      "\n",
      "wrap(*arg, **kwargs)\n",
      "\n"
     ]
    }
   ],
   "source": [
    "help(f3)"
   ]
  },
  {
   "cell_type": "code",
   "execution_count": 180,
   "metadata": {},
   "outputs": [
    {
     "name": "stdout",
     "output_type": "stream",
     "text": [
      "sending to server, the function f1 is called\n"
     ]
    },
    {
     "data": {
      "text/plain": [
       "11"
      ]
     },
     "execution_count": 180,
     "metadata": {},
     "output_type": "execute_result"
    }
   ],
   "source": [
    "f1(10)"
   ]
  },
  {
   "cell_type": "code",
   "execution_count": 175,
   "metadata": {},
   "outputs": [
    {
     "name": "stdout",
     "output_type": "stream",
     "text": [
      "sending to server, the function f2 is called\n"
     ]
    },
    {
     "data": {
      "text/plain": [
       "12"
      ]
     },
     "execution_count": 175,
     "metadata": {},
     "output_type": "execute_result"
    }
   ],
   "source": [
    "f2(10) "
   ]
  },
  {
   "cell_type": "code",
   "execution_count": 181,
   "metadata": {},
   "outputs": [
    {
     "data": {
      "text/plain": [
       "defaultdict(int, {'f2': 12, 'f1': 4})"
      ]
     },
     "execution_count": 181,
     "metadata": {},
     "output_type": "execute_result"
    }
   ],
   "source": [
    "send_login_info.called_time"
   ]
  },
  {
   "cell_type": "code",
   "execution_count": 186,
   "metadata": {},
   "outputs": [
    {
     "name": "stdout",
     "output_type": "stream",
     "text": [
      "Help on function wrap in module __main__:\n",
      "\n",
      "wrap(*args, **kwargs)\n",
      "    事实上 我才是能获得调用时间的 哈哈\n",
      "\n"
     ]
    }
   ],
   "source": [
    "help(complexity_computing)"
   ]
  },
  {
   "cell_type": "code",
   "execution_count": 78,
   "metadata": {},
   "outputs": [],
   "source": [
    "def another_complexity_computing(n):\n",
    "    time.sleep(0.3)\n",
    "\n",
    "    return n ** 3\n",
    "\n",
    "another_complexity_computing = get_time(another_complexity_computing)"
   ]
  },
  {
   "cell_type": "code",
   "execution_count": 97,
   "metadata": {},
   "outputs": [],
   "source": [
    "def another_3():\n",
    "    return n + 3\n",
    "\n",
    "another_3 = get_time(another_3)\n",
    "\n",
    "def anther_4():\n",
    "    return n + 4\n",
    "\n",
    "anther_4 = get_time(anther_4)"
   ]
  },
  {
   "cell_type": "code",
   "execution_count": 196,
   "metadata": {},
   "outputs": [],
   "source": [
    "from functools import wraps\n",
    "\n",
    "def get_time(f):\n",
    "    \"\"\"I could get a function's time \"\"\"\n",
    "    @wraps(f)\n",
    "    def wrap(*args, **kwargs):\n",
    "        \"\"\" 事实上 我才是能获得调用时间的 哈哈\"\"\"\n",
    "        start = time.time()    \n",
    "        result = f(*args, **kwargs)\n",
    "        end = time.time()\n",
    "        print('used time = {}'.format(end - start))\n",
    "        return result\n",
    "\n",
    "    return wrap"
   ]
  },
  {
   "cell_type": "code",
   "execution_count": 197,
   "metadata": {},
   "outputs": [],
   "source": [
    "@get_time\n",
    "def anther_5():\n",
    "    \"\"\"I am the real anthor 5\"\"\"\n",
    "    return n + 4\n"
   ]
  },
  {
   "cell_type": "code",
   "execution_count": 193,
   "metadata": {},
   "outputs": [
    {
     "name": "stdout",
     "output_type": "stream",
     "text": [
      "Help on function anther_5 in module __main__:\n",
      "\n",
      "anther_5()\n",
      "    I am the real anthor 5\n",
      "\n"
     ]
    }
   ],
   "source": [
    "help(anther_5)"
   ]
  },
  {
   "cell_type": "code",
   "execution_count": 92,
   "metadata": {},
   "outputs": [
    {
     "name": "stdout",
     "output_type": "stream",
     "text": [
      "used time = 0.5024662017822266\n"
     ]
    },
    {
     "data": {
      "text/plain": [
       "121"
      ]
     },
     "execution_count": 92,
     "metadata": {},
     "output_type": "execute_result"
    }
   ],
   "source": [
    "get_time(complexity_computing)(11) # confusing"
   ]
  },
  {
   "cell_type": "code",
   "execution_count": 93,
   "metadata": {},
   "outputs": [],
   "source": [
    "complexity_computing = get_time(complexity_computing)"
   ]
  },
  {
   "cell_type": "code",
   "execution_count": 96,
   "metadata": {},
   "outputs": [
    {
     "name": "stdout",
     "output_type": "stream",
     "text": [
      "used time = 0.5044140815734863\n"
     ]
    },
    {
     "data": {
      "text/plain": [
       "121"
      ]
     },
     "execution_count": 96,
     "metadata": {},
     "output_type": "execute_result"
    }
   ],
   "source": [
    "complexity_computing(11)"
   ]
  },
  {
   "cell_type": "code",
   "execution_count": 82,
   "metadata": {},
   "outputs": [
    {
     "name": "stdout",
     "output_type": "stream",
     "text": [
      "used time = 0.501072883605957\n"
     ]
    },
    {
     "data": {
      "text/plain": [
       "121"
      ]
     },
     "execution_count": 82,
     "metadata": {},
     "output_type": "execute_result"
    }
   ],
   "source": [
    "get_time(complexity_computing, 11)"
   ]
  },
  {
   "cell_type": "code",
   "execution_count": 83,
   "metadata": {},
   "outputs": [
    {
     "name": "stdout",
     "output_type": "stream",
     "text": [
      "used time = 0.30249691009521484\n"
     ]
    },
    {
     "data": {
      "text/plain": [
       "1000"
      ]
     },
     "execution_count": 83,
     "metadata": {},
     "output_type": "execute_result"
    }
   ],
   "source": [
    "get_time(another_complexity_computing, 10)"
   ]
  },
  {
   "cell_type": "code",
   "execution_count": 73,
   "metadata": {},
   "outputs": [
    {
     "name": "stdout",
     "output_type": "stream",
     "text": [
      "used time = 0.5005519390106201\n"
     ]
    },
    {
     "data": {
      "text/plain": [
       "121"
      ]
     },
     "execution_count": 73,
     "metadata": {},
     "output_type": "execute_result"
    }
   ],
   "source": [
    "complexity_computing(11)"
   ]
  },
  {
   "cell_type": "code",
   "execution_count": null,
   "metadata": {},
   "outputs": [],
   "source": [
    "def previous_exist_functions():\n",
    "    value1 = func1()\n",
    "    value2 = func2()\n",
    "    \n",
    "    result = value1 + complexity_computing(value2)\n",
    "    \n",
    "    return result"
   ]
  },
  {
   "cell_type": "code",
   "execution_count": 17,
   "metadata": {},
   "outputs": [],
   "source": [
    "from functools import wraps"
   ]
  },
  {
   "cell_type": "code",
   "execution_count": 221,
   "metadata": {},
   "outputs": [],
   "source": [
    "def memo(f): \n",
    "    # 作为缓存器的装饰器\n",
    "    memo.already_computed = {} \n",
    "    # lru_cache: cache_size: least_recent_used \n",
    "    @wraps(f)\n",
    "    def _wrap(arg):\n",
    "        \n",
    "        if arg in memo.already_computed: \n",
    "            result = memo.already_computed[arg]\n",
    "           # print('hit: {}'.format(arg))\n",
    "        else:\n",
    "            result = f(arg) \n",
    "            memo.already_computed[arg] = result\n",
    "        \n",
    "        return result\n",
    "    \n",
    "    return _wrap"
   ]
  },
  {
   "cell_type": "code",
   "execution_count": 201,
   "metadata": {},
   "outputs": [],
   "source": [
    "@memo\n",
    "def r(n): \n",
    "    # get the optimal revenue given length n\n",
    "    return max(\n",
    "        [price[n]] + [r(i) + r(n-i) for i in range(1, n)]\n",
    "    )"
   ]
  },
  {
   "cell_type": "code",
   "execution_count": 207,
   "metadata": {
    "collapsed": true
   },
   "outputs": [
    {
     "name": "stdout",
     "output_type": "stream",
     "text": [
      "hit: 1\n",
      "hit: 1\n",
      "hit: 1\n",
      "hit: 1\n",
      "hit: 1\n",
      "hit: 1\n",
      "hit: 1\n",
      "hit: 1\n",
      "hit: 1\n",
      "hit: 1\n",
      "hit: 1\n",
      "hit: 1\n",
      "hit: 1\n",
      "hit: 1\n",
      "hit: 1\n",
      "hit: 1\n",
      "hit: 1\n",
      "hit: 1\n",
      "hit: 2\n",
      "hit: 1\n",
      "hit: 2\n",
      "hit: 2\n",
      "hit: 3\n",
      "hit: 1\n",
      "hit: 2\n",
      "hit: 3\n",
      "hit: 3\n",
      "hit: 2\n",
      "hit: 4\n",
      "hit: 1\n",
      "hit: 2\n",
      "hit: 4\n",
      "hit: 3\n",
      "hit: 3\n",
      "hit: 4\n",
      "hit: 2\n",
      "hit: 5\n",
      "hit: 1\n",
      "hit: 2\n",
      "hit: 5\n",
      "hit: 3\n",
      "hit: 4\n",
      "hit: 4\n",
      "hit: 3\n",
      "hit: 5\n",
      "hit: 2\n",
      "hit: 6\n",
      "hit: 1\n",
      "hit: 2\n",
      "hit: 6\n",
      "hit: 3\n",
      "hit: 5\n",
      "hit: 4\n",
      "hit: 4\n",
      "hit: 5\n",
      "hit: 3\n",
      "hit: 6\n",
      "hit: 2\n",
      "hit: 7\n",
      "hit: 1\n",
      "hit: 2\n",
      "hit: 7\n",
      "hit: 3\n",
      "hit: 6\n",
      "hit: 4\n",
      "hit: 5\n",
      "hit: 5\n",
      "hit: 4\n",
      "hit: 6\n",
      "hit: 3\n",
      "hit: 7\n",
      "hit: 2\n",
      "hit: 8\n",
      "hit: 1\n",
      "hit: 2\n",
      "hit: 8\n",
      "hit: 3\n",
      "hit: 7\n",
      "hit: 4\n",
      "hit: 6\n",
      "hit: 5\n",
      "hit: 5\n",
      "hit: 6\n",
      "hit: 4\n",
      "hit: 7\n",
      "hit: 3\n",
      "hit: 8\n",
      "hit: 2\n",
      "hit: 9\n",
      "hit: 1\n",
      "hit: 2\n",
      "hit: 9\n",
      "hit: 3\n",
      "hit: 8\n",
      "hit: 4\n",
      "hit: 7\n",
      "hit: 5\n",
      "hit: 6\n",
      "hit: 6\n",
      "hit: 5\n",
      "hit: 7\n",
      "hit: 4\n",
      "hit: 8\n",
      "hit: 3\n",
      "hit: 9\n",
      "hit: 2\n",
      "hit: 10\n",
      "hit: 1\n",
      "hit: 2\n",
      "hit: 10\n",
      "hit: 3\n",
      "hit: 9\n",
      "hit: 4\n",
      "hit: 8\n",
      "hit: 5\n",
      "hit: 7\n",
      "hit: 6\n",
      "hit: 6\n",
      "hit: 7\n",
      "hit: 5\n",
      "hit: 8\n",
      "hit: 4\n",
      "hit: 9\n",
      "hit: 3\n",
      "hit: 10\n",
      "hit: 2\n",
      "hit: 11\n",
      "hit: 1\n",
      "hit: 2\n",
      "hit: 11\n",
      "hit: 3\n",
      "hit: 10\n",
      "hit: 4\n",
      "hit: 9\n",
      "hit: 5\n",
      "hit: 8\n",
      "hit: 6\n",
      "hit: 7\n",
      "hit: 7\n",
      "hit: 6\n",
      "hit: 8\n",
      "hit: 5\n",
      "hit: 9\n",
      "hit: 4\n",
      "hit: 10\n",
      "hit: 3\n",
      "hit: 11\n",
      "hit: 2\n",
      "hit: 12\n",
      "hit: 1\n",
      "hit: 2\n",
      "hit: 12\n",
      "hit: 3\n",
      "hit: 11\n",
      "hit: 4\n",
      "hit: 10\n",
      "hit: 5\n",
      "hit: 9\n",
      "hit: 6\n",
      "hit: 8\n",
      "hit: 7\n",
      "hit: 7\n",
      "hit: 8\n",
      "hit: 6\n",
      "hit: 9\n",
      "hit: 5\n",
      "hit: 10\n",
      "hit: 4\n",
      "hit: 11\n",
      "hit: 3\n",
      "hit: 12\n",
      "hit: 2\n",
      "hit: 13\n",
      "hit: 1\n",
      "hit: 2\n",
      "hit: 13\n",
      "hit: 3\n",
      "hit: 12\n",
      "hit: 4\n",
      "hit: 11\n",
      "hit: 5\n",
      "hit: 10\n",
      "hit: 6\n",
      "hit: 9\n",
      "hit: 7\n",
      "hit: 8\n",
      "hit: 8\n",
      "hit: 7\n",
      "hit: 9\n",
      "hit: 6\n",
      "hit: 10\n",
      "hit: 5\n",
      "hit: 11\n",
      "hit: 4\n",
      "hit: 12\n",
      "hit: 3\n",
      "hit: 13\n",
      "hit: 2\n",
      "hit: 14\n",
      "hit: 1\n",
      "hit: 2\n",
      "hit: 14\n",
      "hit: 3\n",
      "hit: 13\n",
      "hit: 4\n",
      "hit: 12\n",
      "hit: 5\n",
      "hit: 11\n",
      "hit: 6\n",
      "hit: 10\n",
      "hit: 7\n",
      "hit: 9\n",
      "hit: 8\n",
      "hit: 8\n",
      "hit: 9\n",
      "hit: 7\n",
      "hit: 10\n",
      "hit: 6\n",
      "hit: 11\n",
      "hit: 5\n",
      "hit: 12\n",
      "hit: 4\n",
      "hit: 13\n",
      "hit: 3\n",
      "hit: 14\n",
      "hit: 2\n",
      "hit: 15\n",
      "hit: 1\n",
      "hit: 2\n",
      "hit: 15\n",
      "hit: 3\n",
      "hit: 14\n",
      "hit: 4\n",
      "hit: 13\n",
      "hit: 5\n",
      "hit: 12\n",
      "hit: 6\n",
      "hit: 11\n",
      "hit: 7\n",
      "hit: 10\n",
      "hit: 8\n",
      "hit: 9\n",
      "hit: 9\n",
      "hit: 8\n",
      "hit: 10\n",
      "hit: 7\n",
      "hit: 11\n",
      "hit: 6\n",
      "hit: 12\n",
      "hit: 5\n",
      "hit: 13\n",
      "hit: 4\n",
      "hit: 14\n",
      "hit: 3\n",
      "hit: 15\n",
      "hit: 2\n",
      "hit: 16\n",
      "hit: 1\n",
      "hit: 2\n",
      "hit: 16\n",
      "hit: 3\n",
      "hit: 15\n",
      "hit: 4\n",
      "hit: 14\n",
      "hit: 5\n",
      "hit: 13\n",
      "hit: 6\n",
      "hit: 12\n",
      "hit: 7\n",
      "hit: 11\n",
      "hit: 8\n",
      "hit: 10\n",
      "hit: 9\n",
      "hit: 9\n",
      "hit: 10\n",
      "hit: 8\n",
      "hit: 11\n",
      "hit: 7\n",
      "hit: 12\n",
      "hit: 6\n",
      "hit: 13\n",
      "hit: 5\n",
      "hit: 14\n",
      "hit: 4\n",
      "hit: 15\n",
      "hit: 3\n",
      "hit: 16\n",
      "hit: 2\n",
      "hit: 17\n",
      "hit: 1\n",
      "hit: 2\n",
      "hit: 17\n",
      "hit: 3\n",
      "hit: 16\n",
      "hit: 4\n",
      "hit: 15\n",
      "hit: 5\n",
      "hit: 14\n",
      "hit: 6\n",
      "hit: 13\n",
      "hit: 7\n",
      "hit: 12\n",
      "hit: 8\n",
      "hit: 11\n",
      "hit: 9\n",
      "hit: 10\n",
      "hit: 10\n",
      "hit: 9\n",
      "hit: 11\n",
      "hit: 8\n",
      "hit: 12\n",
      "hit: 7\n",
      "hit: 13\n",
      "hit: 6\n",
      "hit: 14\n",
      "hit: 5\n",
      "hit: 15\n",
      "hit: 4\n",
      "hit: 16\n",
      "hit: 3\n",
      "hit: 17\n",
      "hit: 2\n",
      "hit: 18\n",
      "hit: 1\n"
     ]
    },
    {
     "data": {
      "text/plain": [
       "57"
      ]
     },
     "execution_count": 207,
     "metadata": {},
     "output_type": "execute_result"
    }
   ],
   "source": [
    "r(19)"
   ]
  },
  {
   "cell_type": "code",
   "execution_count": 211,
   "metadata": {},
   "outputs": [],
   "source": [
    "@memo\n",
    "def fib(n):\n",
    "    if n <= 1: return n\n",
    "    else:\n",
    "        return fib(n-1) + fib(n-2)"
   ]
  },
  {
   "cell_type": "code",
   "execution_count": 212,
   "metadata": {},
   "outputs": [
    {
     "name": "stdout",
     "output_type": "stream",
     "text": [
      "hit: 1\n",
      "hit: 2\n",
      "hit: 3\n",
      "hit: 4\n",
      "hit: 5\n",
      "hit: 6\n",
      "hit: 7\n",
      "hit: 8\n",
      "hit: 9\n",
      "hit: 10\n",
      "hit: 11\n",
      "hit: 12\n",
      "hit: 13\n",
      "hit: 14\n",
      "hit: 15\n",
      "hit: 16\n",
      "hit: 17\n",
      "hit: 18\n",
      "hit: 19\n",
      "hit: 20\n",
      "hit: 21\n",
      "hit: 22\n",
      "hit: 23\n",
      "hit: 24\n",
      "hit: 25\n",
      "hit: 26\n",
      "hit: 27\n",
      "hit: 28\n",
      "hit: 29\n",
      "hit: 30\n",
      "hit: 31\n",
      "hit: 32\n",
      "hit: 33\n",
      "hit: 34\n",
      "hit: 35\n",
      "hit: 36\n",
      "hit: 37\n",
      "hit: 38\n"
     ]
    },
    {
     "data": {
      "text/plain": [
       "102334155"
      ]
     },
     "execution_count": 212,
     "metadata": {},
     "output_type": "execute_result"
    }
   ],
   "source": [
    "fib(40)"
   ]
  },
  {
   "cell_type": "markdown",
   "metadata": {},
   "source": [
    "## 1940s Bellman 数学家"
   ]
  },
  {
   "cell_type": "markdown",
   "metadata": {},
   "source": [
    "## 类似的这种数学问题，发现可以把中间计算结果存起来，然后加快计算的过程. \"不断查表发\" \n",
    "\n",
    "## Programming == 写表，查表\n",
    "## Dynamic == 不断的\n",
    "\n",
    "## Dynamic Programming \n",
    "\n",
    "## -> 可以把一个问题分割成子问题，然后呢，子问题又有重复的这种问题，就说用 Dynamic Programming "
   ]
  },
  {
   "cell_type": "markdown",
   "metadata": {},
   "source": [
    "## We use this method to solve Cut Rod probelm"
   ]
  },
  {
   "cell_type": "markdown",
   "metadata": {},
   "source": [
    "## 我们通过加缓存(Dynamic Programming)的这种方式，能够快速获得r(112)的价钱的结果了，但是，具体是怎么切分的呢？"
   ]
  },
  {
   "cell_type": "markdown",
   "metadata": {},
   "source": [
    "## Parse Solution"
   ]
  },
  {
   "cell_type": "code",
   "execution_count": 252,
   "metadata": {},
   "outputs": [],
   "source": [
    "solution = {}"
   ]
  },
  {
   "cell_type": "code",
   "execution_count": 253,
   "metadata": {},
   "outputs": [],
   "source": [
    "@memo\n",
    "def r(n):\n",
    "    \"\"\"\n",
    "    Args: n is the iron length\n",
    "    Return: the max revenue \n",
    "    \"\"\"\n",
    "    revenue_left_split_right_split_notes = [(price[n], 0, n)]\n",
    "    \n",
    "    for i in range(1, n):\n",
    "        revenue_left_split_right_split_notes.append((\n",
    "            r(i) + r(n-i), # the total price of this split\n",
    "            n - i, # the left side split\n",
    "            i)) # the right side split\n",
    "        \n",
    "    \n",
    "    max_price, left_split, right_split = max(revenue_left_split_right_split_notes, key=lambda x: x[0])\n",
    "\n",
    "    solution[n] = (left_split, right_split)\n",
    "    \n",
    "    return max_price"
   ]
  },
  {
   "cell_type": "code",
   "execution_count": 254,
   "metadata": {},
   "outputs": [
    {
     "data": {
      "text/plain": [
       "369"
      ]
     },
     "execution_count": 254,
     "metadata": {},
     "output_type": "execute_result"
    }
   ],
   "source": [
    "r(123)"
   ]
  },
  {
   "cell_type": "code",
   "execution_count": 255,
   "metadata": {
    "scrolled": true
   },
   "outputs": [
    {
     "data": {
      "text/plain": [
       "{1: (0, 1),\n",
       " 2: (0, 2),\n",
       " 3: (0, 3),\n",
       " 4: (2, 2),\n",
       " 5: (3, 2),\n",
       " 6: (0, 6),\n",
       " 7: (6, 1),\n",
       " 8: (6, 2),\n",
       " 9: (6, 3),\n",
       " 10: (0, 10),\n",
       " 11: (0, 11),\n",
       " 12: (10, 2),\n",
       " 13: (11, 2),\n",
       " 14: (11, 3),\n",
       " 15: (13, 2),\n",
       " 16: (10, 6),\n",
       " 17: (11, 6),\n",
       " 18: (16, 2),\n",
       " 19: (17, 2),\n",
       " 20: (10, 10),\n",
       " 21: (11, 10),\n",
       " 22: (11, 11),\n",
       " 23: (21, 2),\n",
       " 24: (22, 2),\n",
       " 25: (22, 3),\n",
       " 26: (20, 6),\n",
       " 27: (21, 6),\n",
       " 28: (22, 6),\n",
       " 29: (27, 2),\n",
       " 30: (20, 10),\n",
       " 31: (21, 10),\n",
       " 32: (22, 10),\n",
       " 33: (22, 11),\n",
       " 34: (32, 2),\n",
       " 35: (33, 2),\n",
       " 36: (33, 3),\n",
       " 37: (31, 6),\n",
       " 38: (32, 6),\n",
       " 39: (33, 6),\n",
       " 40: (30, 10),\n",
       " 41: (31, 10),\n",
       " 42: (32, 10),\n",
       " 43: (33, 10),\n",
       " 44: (33, 11),\n",
       " 45: (43, 2),\n",
       " 46: (44, 2),\n",
       " 47: (44, 3),\n",
       " 48: (42, 6),\n",
       " 49: (43, 6),\n",
       " 50: (40, 10),\n",
       " 51: (41, 10),\n",
       " 52: (42, 10),\n",
       " 53: (43, 10),\n",
       " 54: (44, 10),\n",
       " 55: (44, 11),\n",
       " 56: (54, 2),\n",
       " 57: (55, 2),\n",
       " 58: (55, 3),\n",
       " 59: (53, 6),\n",
       " 60: (50, 10),\n",
       " 61: (51, 10),\n",
       " 62: (52, 10),\n",
       " 63: (53, 10),\n",
       " 64: (54, 10),\n",
       " 65: (55, 10),\n",
       " 66: (55, 11),\n",
       " 67: (65, 2),\n",
       " 68: (66, 2),\n",
       " 69: (66, 3),\n",
       " 70: (60, 10),\n",
       " 71: (61, 10),\n",
       " 72: (62, 10),\n",
       " 73: (63, 10),\n",
       " 74: (64, 10),\n",
       " 75: (65, 10),\n",
       " 76: (66, 10),\n",
       " 77: (66, 11),\n",
       " 78: (76, 2),\n",
       " 79: (77, 2),\n",
       " 80: (70, 10),\n",
       " 81: (71, 10),\n",
       " 82: (72, 10),\n",
       " 83: (73, 10),\n",
       " 84: (74, 10),\n",
       " 85: (75, 10),\n",
       " 86: (76, 10),\n",
       " 87: (77, 10),\n",
       " 88: (77, 11),\n",
       " 89: (87, 2),\n",
       " 90: (80, 10),\n",
       " 91: (81, 10),\n",
       " 92: (82, 10),\n",
       " 93: (83, 10),\n",
       " 94: (84, 10),\n",
       " 95: (85, 10),\n",
       " 96: (86, 10),\n",
       " 97: (87, 10),\n",
       " 98: (88, 10),\n",
       " 99: (88, 11),\n",
       " 100: (90, 10),\n",
       " 101: (91, 10),\n",
       " 102: (92, 10),\n",
       " 103: (93, 10),\n",
       " 104: (94, 10),\n",
       " 105: (95, 10),\n",
       " 106: (96, 10),\n",
       " 107: (97, 10),\n",
       " 108: (98, 10),\n",
       " 109: (99, 10),\n",
       " 110: (100, 10),\n",
       " 111: (101, 10),\n",
       " 112: (102, 10),\n",
       " 113: (103, 10),\n",
       " 114: (104, 10),\n",
       " 115: (105, 10),\n",
       " 116: (106, 10),\n",
       " 117: (107, 10),\n",
       " 118: (108, 10),\n",
       " 119: (109, 10),\n",
       " 120: (110, 10),\n",
       " 121: (111, 10),\n",
       " 122: (112, 10),\n",
       " 123: (113, 10)}"
      ]
     },
     "execution_count": 255,
     "metadata": {},
     "output_type": "execute_result"
    }
   ],
   "source": [
    "solution"
   ]
  },
  {
   "cell_type": "markdown",
   "metadata": {},
   "source": [
    "## How do we parse solution?"
   ]
  },
  {
   "cell_type": "code",
   "execution_count": 268,
   "metadata": {},
   "outputs": [],
   "source": [
    "def parse_solution(n):    \n",
    "    left_split, right_split = solution[n]\n",
    "    \n",
    "    if left_split == 0: return [right_split]\n",
    "    \n",
    "    return parse_solution(left_split) + parse_solution(right_split)"
   ]
  },
  {
   "cell_type": "code",
   "execution_count": 269,
   "metadata": {},
   "outputs": [
    {
     "data": {
      "text/plain": [
       "702"
      ]
     },
     "execution_count": 269,
     "metadata": {},
     "output_type": "execute_result"
    }
   ],
   "source": [
    "r(234)"
   ]
  },
  {
   "cell_type": "code",
   "execution_count": 276,
   "metadata": {},
   "outputs": [
    {
     "data": {
      "text/plain": [
       "101"
      ]
     },
     "execution_count": 276,
     "metadata": {},
     "output_type": "execute_result"
    }
   ],
   "source": [
    "r(34)"
   ]
  },
  {
   "cell_type": "code",
   "execution_count": 275,
   "metadata": {},
   "outputs": [
    {
     "data": {
      "text/plain": [
       "'11🙅11🙅10🙅2'"
      ]
     },
     "execution_count": 275,
     "metadata": {},
     "output_type": "execute_result"
    }
   ],
   "source": [
    "'🙅'.join(map(str, parse_solution(34)))"
   ]
  },
  {
   "cell_type": "markdown",
   "metadata": {},
   "source": [
    "## -> 动态规划解决问题的3个步骤\n",
    "### 1. 识别拆分子问题\n",
    "### 2. 去除子问题的重复\n",
    "### 3. 解析问题求解过程\n"
   ]
  },
  {
   "cell_type": "markdown",
   "metadata": {},
   "source": [
    "## Edit Distance"
   ]
  },
  {
   "cell_type": "code",
   "execution_count": 31,
   "metadata": {},
   "outputs": [],
   "source": [
    "## Edit Distance"
   ]
  },
  {
   "cell_type": "code",
   "execution_count": 306,
   "metadata": {},
   "outputs": [],
   "source": [
    "from functools import lru_cache"
   ]
  },
  {
   "cell_type": "code",
   "execution_count": 318,
   "metadata": {},
   "outputs": [],
   "source": [
    "edit_solution = {}\n",
    "\n",
    "@lru_cache(maxsize=2**10)\n",
    "def edit_distance(string1, string2):\n",
    "    \"\"\"\n",
    "    D(i, j) = min(\n",
    "        D(i-1, j) + 1,\n",
    "        D(i, j-1) + 1,\n",
    "        D(i-1, j-1) + 2 if string1[i] != string2[j] else D(i-1, j-1)\n",
    "    )\n",
    "    \"\"\"\n",
    "    \n",
    "    if len(string1) == 0: return len(string2)\n",
    "    if len(string2) == 0: return len(string1)\n",
    "    \n",
    "    tail_s1 = string1[-1]\n",
    "    tail_s2 = string2[-1]\n",
    "    \n",
    "    candidates = [\n",
    "        (edit_distance(string1[:-1], string2) + 1, 'DEL {}'.format(tail_s1)),  \n",
    "        # string 1 delete tail\n",
    "        (edit_distance(string1, string2[:-1]) + 1, 'ADD {}'.format(tail_s2)),  \n",
    "        # string 1 add tail of string2\n",
    "    ]\n",
    "    \n",
    "    if tail_s1 == tail_s2:\n",
    "        both_forward = (edit_distance(string1[:-1], string2[:-1]) + 0, '')\n",
    "    else:\n",
    "#        both_forward = (edit_distance(string1[:-1], string2[:-1]) + 2, 'SUB {} => {}'.format(tail_s1, tail_s2))\n",
    "        # 卢氏\n",
    "        both_forward = (edit_distance(string1[:-1], string2[:-1]) + 1, 'Sub {} => {}'.format(tail_s1, tail_s2))\n",
    "\n",
    "\n",
    "\n",
    "    candidates.append(both_forward)\n",
    "    \n",
    "    min_distance, operation = min(candidates, key=lambda x: x[0])\n",
    "    \n",
    "    edit_solution[(string1, string2)] = operation \n",
    "    \n",
    "    return min_distance"
   ]
  },
  {
   "cell_type": "code",
   "execution_count": 319,
   "metadata": {},
   "outputs": [
    {
     "data": {
      "text/plain": [
       "2"
      ]
     },
     "execution_count": 319,
     "metadata": {},
     "output_type": "execute_result"
    }
   ],
   "source": [
    "edit_distance('test', 'tets') "
   ]
  },
  {
   "cell_type": "code",
   "execution_count": 320,
   "metadata": {},
   "outputs": [
    {
     "data": {
      "text/plain": [
       "{('t', 't'): '',\n",
       " ('t', 'te'): 'ADD e',\n",
       " ('t', 'tet'): 'ADD t',\n",
       " ('t', 'tets'): 'ADD s',\n",
       " ('te', 't'): 'DEL e',\n",
       " ('te', 'te'): '',\n",
       " ('te', 'tet'): 'ADD t',\n",
       " ('te', 'tets'): 'ADD s',\n",
       " ('tes', 't'): 'DEL s',\n",
       " ('tes', 'te'): 'DEL s',\n",
       " ('tes', 'tet'): 'Sub s => t',\n",
       " ('tes', 'tets'): '',\n",
       " ('test', 't'): 'DEL t',\n",
       " ('test', 'te'): 'DEL t',\n",
       " ('test', 'tet'): '',\n",
       " ('test', 'tets'): 'DEL t'}"
      ]
     },
     "execution_count": 320,
     "metadata": {},
     "output_type": "execute_result"
    }
   ],
   "source": [
    "edit_solution"
   ]
  },
  {
   "cell_type": "markdown",
   "metadata": {},
   "source": [
    "## Todo: Parse Solution is our homework"
   ]
  },
  {
   "cell_type": "code",
   "execution_count": 321,
   "metadata": {},
   "outputs": [],
   "source": [
    "# 大家要把这个solution怎么解析 自己要完成!"
   ]
  },
  {
   "cell_type": "markdown",
   "metadata": {},
   "source": [
    "## Problem Case 3: Pinyin Auto Correction Problem"
   ]
  },
  {
   "cell_type": "code",
   "execution_count": 322,
   "metadata": {},
   "outputs": [],
   "source": [
    "chinese_dataset = 'article_9k.txt'"
   ]
  },
  {
   "cell_type": "code",
   "execution_count": 323,
   "metadata": {},
   "outputs": [],
   "source": [
    "CHINESE_CHARATERS = open(chinese_dataset).read()"
   ]
  },
  {
   "cell_type": "code",
   "execution_count": 324,
   "metadata": {},
   "outputs": [
    {
     "data": {
      "text/plain": [
       "'此外自本周6月12日'"
      ]
     },
     "execution_count": 324,
     "metadata": {},
     "output_type": "execute_result"
    }
   ],
   "source": [
    "CHINESE_CHARATERS[:10]"
   ]
  },
  {
   "cell_type": "code",
   "execution_count": 325,
   "metadata": {},
   "outputs": [],
   "source": [
    "import pinyin"
   ]
  },
  {
   "cell_type": "code",
   "execution_count": 326,
   "metadata": {},
   "outputs": [
    {
     "data": {
      "text/plain": [
       "'ni hao'"
      ]
     },
     "execution_count": 326,
     "metadata": {},
     "output_type": "execute_result"
    }
   ],
   "source": [
    "pinyin.get('你好', format=\"strip\", delimiter=\" \")"
   ]
  },
  {
   "cell_type": "code",
   "execution_count": 327,
   "metadata": {},
   "outputs": [],
   "source": [
    "def chinese_to_pinyin(character):\n",
    "    return pinyin.get(character, format=\"strip\", delimiter=\" \")"
   ]
  },
  {
   "cell_type": "code",
   "execution_count": 328,
   "metadata": {},
   "outputs": [
    {
     "data": {
      "text/plain": [
       "'ni shuo shi yao'"
      ]
     },
     "execution_count": 328,
     "metadata": {},
     "output_type": "execute_result"
    }
   ],
   "source": [
    "chinese_to_pinyin('你说什么')"
   ]
  },
  {
   "cell_type": "code",
   "execution_count": 329,
   "metadata": {},
   "outputs": [],
   "source": [
    "CHINESE_PINYIN_CORPYS = chinese_to_pinyin(CHINESE_CHARATERS)"
   ]
  },
  {
   "cell_type": "code",
   "execution_count": 331,
   "metadata": {},
   "outputs": [
    {
     "data": {
      "text/plain": [
       "12943.3034"
      ]
     },
     "execution_count": 331,
     "metadata": {},
     "output_type": "execute_result"
    }
   ],
   "source": [
    "len(CHINESE_PINYIN_CORPYS) / 10000"
   ]
  },
  {
   "cell_type": "code",
   "execution_count": 334,
   "metadata": {},
   "outputs": [],
   "source": [
    "import re"
   ]
  },
  {
   "cell_type": "code",
   "execution_count": 335,
   "metadata": {},
   "outputs": [],
   "source": [
    "def tokens(text):\n",
    "    \"List all the pinyin characrters\"\n",
    "    return re.findall('[a-z]+', text.lower()) "
   ]
  },
  {
   "cell_type": "code",
   "execution_count": 336,
   "metadata": {},
   "outputs": [
    {
     "data": {
      "text/plain": [
       "'ci wai zi ben zhou 6 yue 1 2 ri qi chu xiao mi shou ji 6 deng 1 5 kuan ji xing wai qi yu ji xing yi '"
      ]
     },
     "execution_count": 336,
     "metadata": {},
     "output_type": "execute_result"
    }
   ],
   "source": [
    "CHINESE_PINYIN_CORPYS[:100]"
   ]
  },
  {
   "cell_type": "code",
   "execution_count": 337,
   "metadata": {},
   "outputs": [
    {
     "data": {
      "text/plain": [
       "['ci',\n",
       " 'wai',\n",
       " 'zi',\n",
       " 'ben',\n",
       " 'zhou',\n",
       " 'yue',\n",
       " 'ri',\n",
       " 'qi',\n",
       " 'chu',\n",
       " 'xiao',\n",
       " 'mi',\n",
       " 'shou',\n",
       " 'ji',\n",
       " 'deng',\n",
       " 'kuan',\n",
       " 'ji',\n",
       " 'xing',\n",
       " 'wai',\n",
       " 'qi',\n",
       " 'yu',\n",
       " 'ji',\n",
       " 'xing',\n",
       " 'yi']"
      ]
     },
     "execution_count": 337,
     "metadata": {},
     "output_type": "execute_result"
    }
   ],
   "source": [
    "tokens(CHINESE_PINYIN_CORPYS[:100])"
   ]
  },
  {
   "cell_type": "code",
   "execution_count": 338,
   "metadata": {},
   "outputs": [],
   "source": [
    "from collections import Counter, defaultdict"
   ]
  },
  {
   "cell_type": "code",
   "execution_count": 339,
   "metadata": {},
   "outputs": [],
   "source": [
    "PINYIN_COUNT = Counter(tokens(CHINESE_PINYIN_CORPYS))"
   ]
  },
  {
   "cell_type": "code",
   "execution_count": 340,
   "metadata": {},
   "outputs": [],
   "source": [
    "def correct(word):\n",
    "    \"Find the most possible pinyin based on edit distance.\"\n",
    "    \n",
    "    # Prefer edit distance 0, then 1, then 2; otherwise default to word itself.\n",
    "    \n",
    "    candidates = (known(edits0(word)) or \n",
    "                  known(edits1(word)) or \n",
    "                  known(edits2(word)) or \n",
    "                  [word])\n",
    "    return max(candidates, key=PINYIN_COUNT.get) # return the most possible "
   ]
  },
  {
   "cell_type": "markdown",
   "metadata": {},
   "source": [
    "```\n",
    "pinyin => pinyinz\n",
    "       => pinying ~\n",
    "```"
   ]
  },
  {
   "cell_type": "code",
   "execution_count": 392,
   "metadata": {},
   "outputs": [],
   "source": [
    "def known(words):\n",
    "    \"\"\"\"\n",
    "    @param: words, list\n",
    "    @Return: the pinyin words we have noticed.\"\"\"\n",
    "    return {w for w in words if w in PINYIN_COUNT}\n",
    "\n",
    "def edits0(word): \n",
    "    \"Return all strings that are zero edits away from word (i.e., just word itself).\"\n",
    "    return {word}\n",
    "\n",
    "def edits2(word):\n",
    "    \"Return all strings that are two edits away from this pinyin.\"\n",
    "    return {e2 for e1 in edits1(word) for e2 in edits1(e1)}\n",
    "\n",
    "def edist3(word):\n",
    "    return {e3 for e3 in edits2(word)}"
   ]
  },
  {
   "cell_type": "markdown",
   "metadata": {},
   "source": [
    "## $edits1()$ --> How?"
   ]
  },
  {
   "cell_type": "code",
   "execution_count": 379,
   "metadata": {},
   "outputs": [],
   "source": [
    "alphabet = 'abcdefghijklmnopqrstuvwxyz'\n",
    "\n",
    "def get_deletes(pairs):\n",
    "    return [a+b[1:] for (a, b) in pairs if b]\n",
    "\n",
    "def get_transposes(pairs):\n",
    "    return [a+b[1]+b[0]+b[2:] for (a, b) in pairs if len(b) > 1]\n",
    "\n",
    "def get_raplces(pairs):\n",
    "    return [a+c+b[1:]  for (a, b) in pairs for c in alphabet if b]\n",
    "\n",
    "def get_inserts(pairs):\n",
    "    return [a+c+b for (a, b) in pairs for c in alphabet]\n",
    "\n",
    "def edits1(word):\n",
    "    \"Return all strings that are one edit away from this pinyin.\"\n",
    "    pairs      = splits(word)\n",
    "    deletes    = get_deletes(pairs)\n",
    "    transposes = get_transposes(pairs)\n",
    "    replaces   = get_raplces(pairs)\n",
    "    inserts    = get_inserts(pairs)\n",
    "    return set(deletes + transposes + replaces + inserts)\n",
    "\n",
    "def splits(word):\n",
    "    \"Return a list of all possible (first, rest) pairs that comprise pinyin.\"\n",
    "    return [(word[:i], word[i:]) \n",
    "            for i in range(len(word)+1)]"
   ]
  },
  {
   "cell_type": "code",
   "execution_count": 372,
   "metadata": {},
   "outputs": [
    {
     "data": {
      "text/plain": [
       "[('', 'pinyin'),\n",
       " ('p', 'inyin'),\n",
       " ('pi', 'nyin'),\n",
       " ('pin', 'yin'),\n",
       " ('piny', 'in'),\n",
       " ('pinyi', 'n'),\n",
       " ('pinyin', '')]"
      ]
     },
     "execution_count": 372,
     "metadata": {},
     "output_type": "execute_result"
    }
   ],
   "source": [
    "splits('pinyin')"
   ]
  },
  {
   "cell_type": "code",
   "execution_count": 373,
   "metadata": {},
   "outputs": [
    {
     "name": "stdout",
     "output_type": "stream",
     "text": [
      "{'pinyin'}\n"
     ]
    }
   ],
   "source": [
    "print(edits0('pinyin'))"
   ]
  },
  {
   "cell_type": "code",
   "execution_count": 374,
   "metadata": {},
   "outputs": [
    {
     "data": {
      "text/plain": [
       "['inyin', 'pnyin', 'piyin', 'pinin', 'pinyn', 'pinyi']"
      ]
     },
     "execution_count": 374,
     "metadata": {},
     "output_type": "execute_result"
    }
   ],
   "source": [
    "get_deletes(splits('pinyin'))"
   ]
  },
  {
   "cell_type": "code",
   "execution_count": 375,
   "metadata": {},
   "outputs": [
    {
     "data": {
      "text/plain": [
       "['ipnyin', 'pniyin', 'piynin', 'piniyn', 'pinyni']"
      ]
     },
     "execution_count": 375,
     "metadata": {},
     "output_type": "execute_result"
    }
   ],
   "source": [
    "get_transposes(splits('pinyin'))"
   ]
  },
  {
   "cell_type": "code",
   "execution_count": 376,
   "metadata": {},
   "outputs": [
    {
     "data": {
      "text/plain": [
       "{'bin',\n",
       " 'jin',\n",
       " 'lin',\n",
       " 'min',\n",
       " 'nin',\n",
       " 'pan',\n",
       " 'pen',\n",
       " 'pie',\n",
       " 'pin',\n",
       " 'qin',\n",
       " 'xin',\n",
       " 'yin'}"
      ]
     },
     "execution_count": 376,
     "metadata": {},
     "output_type": "execute_result"
    }
   ],
   "source": [
    "known(get_raplces(splits('pin')))"
   ]
  },
  {
   "cell_type": "code",
   "execution_count": 377,
   "metadata": {},
   "outputs": [
    {
     "data": {
      "text/plain": [
       "{'pian', 'ping'}"
      ]
     },
     "execution_count": 377,
     "metadata": {},
     "output_type": "execute_result"
    }
   ],
   "source": [
    "known(get_inserts(splits('pin')))"
   ]
  },
  {
   "cell_type": "code",
   "execution_count": 382,
   "metadata": {},
   "outputs": [
    {
     "name": "stdout",
     "output_type": "stream",
     "text": [
      "{'pi', 'qin', 'jin', 'ping', 'yin', 'pie', 'pan', 'xin', 'pin', 'lin', 'nin', 'min', 'bin', 'pen', 'pian'}\n"
     ]
    }
   ],
   "source": [
    "print(known(edits1('pin')))"
   ]
  },
  {
   "cell_type": "code",
   "execution_count": 87,
   "metadata": {},
   "outputs": [
    {
     "name": "stdout",
     "output_type": "stream",
     "text": [
      "338\n"
     ]
    }
   ],
   "source": [
    "print(len(edits1('pinyin')))"
   ]
  },
  {
   "cell_type": "code",
   "execution_count": 386,
   "metadata": {},
   "outputs": [
    {
     "name": "stdout",
     "output_type": "stream",
     "text": [
      "{'nen', 'ming', 'qie', 'xun', 'nian', 'an', 'p', 'kan', 'jia', 'ai', 'pei', 'sun', 'lun', 'pen', 'ying', 'run', 'mie', 'n', 'pan', 'fan', 'zan', 'pa', 'ji', 'pou', 'pai', 'diu', 'tun', 'i', 'lan', 'piao', 'ben', 'ren', 'en', 'ri', 'po', 'ding', 'gan', 'mian', 'ling', 'dun', 'nan', 'han', 'qian', 'bie', 'min', 'ken', 'lian', 'xian', 'yi', 'xin', 'kun', 'xing', 'xie', 'qing', 'tie', 'yun', 'bian', 'dan', 'lin', 'tan', 'liu', 'pi', 'hun', 'jin', 'cun', 'dian', 'lie', 'ni', 'niu', 'ting', 'men', 'wan', 'die', 'dia', 'qin', 'miu', 'ban', 'qi', 'qun', 'ping', 'yin', 'qiu', 'ti', 'peng', 'wen', 'sen', 'pao', 'ci', 'zen', 'nin', 'man', 'bin', 'jie', 'can', 'ning', 'jiu', 'pang', 'bing', 'hen', 'jun', 'di', 'pie', 'gun', 'qia', 'jing', 'jian', 'nie', 'mi', 'lia', 'cen', 'xia', 'ran', 'xi', 'zi', 'pian', 'xiu', 'fen', 'gen', 'zun', 'pu', 'si', 'pin', 'yan', 'li', 'san', 'bi', 'tian'}\n"
     ]
    }
   ],
   "source": [
    "print(known(edits2('pin')))"
   ]
  },
  {
   "cell_type": "code",
   "execution_count": 393,
   "metadata": {},
   "outputs": [
    {
     "name": "stdout",
     "output_type": "stream",
     "text": [
      "{'nen', 'ming', 'qie', 'xun', 'nian', 'an', 'p', 'kan', 'jia', 'ai', 'pei', 'sun', 'lun', 'pen', 'ying', 'run', 'mie', 'n', 'pan', 'fan', 'zan', 'pa', 'ji', 'pou', 'pai', 'diu', 'tun', 'i', 'lan', 'piao', 'ben', 'ren', 'en', 'ri', 'po', 'ding', 'gan', 'mian', 'ling', 'dun', 'nan', 'han', 'qian', 'bie', 'min', 'ken', 'lian', 'xian', 'yi', 'xin', 'kun', 'xing', 'xie', 'qing', 'tie', 'yun', 'bian', 'dan', 'lin', 'tan', 'liu', 'pi', 'hun', 'jin', 'cun', 'dian', 'lie', 'ni', 'niu', 'ting', 'men', 'wan', 'die', 'dia', 'qin', 'miu', 'ban', 'qi', 'qun', 'ping', 'yin', 'qiu', 'ti', 'peng', 'wen', 'sen', 'pao', 'ci', 'zen', 'nin', 'man', 'bin', 'jie', 'can', 'ning', 'jiu', 'pang', 'bing', 'hen', 'jun', 'di', 'pie', 'gun', 'qia', 'jing', 'jian', 'nie', 'mi', 'lia', 'cen', 'xia', 'ran', 'xi', 'zi', 'pian', 'xiu', 'fen', 'gen', 'zun', 'pu', 'si', 'pin', 'yan', 'li', 'san', 'bi', 'tian'}\n"
     ]
    }
   ],
   "source": [
    "print(known(edist3('pin')))"
   ]
  },
  {
   "cell_type": "markdown",
   "metadata": {},
   "source": [
    "## It's the time show the power!"
   ]
  },
  {
   "cell_type": "code",
   "execution_count": 394,
   "metadata": {},
   "outputs": [
    {
     "data": {
      "text/plain": [
       "'yin'"
      ]
     },
     "execution_count": 394,
     "metadata": {},
     "output_type": "execute_result"
    }
   ],
   "source": [
    "correct('yin')"
   ]
  },
  {
   "attachments": {
    "image.png": {
     "image/png": "[encoded data removed]"
    }
   },
   "cell_type": "markdown",
   "metadata": {},
   "source": [
    "![image.png](attachment:image.png)"
   ]
  },
  {
   "cell_type": "code",
   "execution_count": 397,
   "metadata": {},
   "outputs": [
    {
     "data": {
      "text/plain": [
       "'ying'"
      ]
     },
     "execution_count": 397,
     "metadata": {},
     "output_type": "execute_result"
    }
   ],
   "source": [
    "correct('yign')"
   ]
  },
  {
   "cell_type": "code",
   "execution_count": 398,
   "metadata": {},
   "outputs": [
    {
     "data": {
      "text/plain": [
       "'ying'"
      ]
     },
     "execution_count": 398,
     "metadata": {},
     "output_type": "execute_result"
    }
   ],
   "source": [
    "correct('yinn')"
   ]
  },
  {
   "cell_type": "code",
   "execution_count": 399,
   "metadata": {},
   "outputs": [],
   "source": [
    "def correct_sequence_pinyin(text_pingyin):\n",
    "    return ' '.join(map(correct, text_pingyin.split()))"
   ]
  },
  {
   "cell_type": "markdown",
   "metadata": {},
   "source": [
    "## 这是一个测试！"
   ]
  },
  {
   "cell_type": "code",
   "execution_count": 104,
   "metadata": {},
   "outputs": [
    {
     "data": {
      "text/plain": [
       "'zhe shi yi ge ce shi'"
      ]
     },
     "execution_count": 104,
     "metadata": {},
     "output_type": "execute_result"
    }
   ],
   "source": [
    "correct_sequence_pinyin('zhe sih yi ge ce sho')"
   ]
  },
  {
   "cell_type": "markdown",
   "metadata": {},
   "source": [
    "## 这个有dien人更浓值能的一丝"
   ]
  },
  {
   "cell_type": "code",
   "execution_count": 405,
   "metadata": {},
   "outputs": [
    {
     "data": {
      "text/plain": [
       "277726"
      ]
     },
     "execution_count": 405,
     "metadata": {},
     "output_type": "execute_result"
    }
   ],
   "source": [
    "PINYIN_COUNT.get('you')"
   ]
  },
  {
   "cell_type": "code",
   "execution_count": 406,
   "metadata": {},
   "outputs": [
    {
     "data": {
      "text/plain": [
       "430042"
      ]
     },
     "execution_count": 406,
     "metadata": {},
     "output_type": "execute_result"
    }
   ],
   "source": [
    "PINYIN_COUNT.get('guo')"
   ]
  },
  {
   "cell_type": "code",
   "execution_count": 404,
   "metadata": {},
   "outputs": [
    {
     "data": {
      "text/plain": [
       "'zhe ge guo dian ren gong zhi neng de yi si'"
      ]
     },
     "execution_count": 404,
     "metadata": {},
     "output_type": "execute_result"
    }
   ],
   "source": [
    "correct_sequence_pinyin('zhe ge yuo dien ren gnong zhi negn de yi si')"
   ]
  },
  {
   "cell_type": "markdown",
   "metadata": {},
   "source": [
    "## 我想上清华大学~"
   ]
  },
  {
   "cell_type": "code",
   "execution_count": 400,
   "metadata": {},
   "outputs": [
    {
     "data": {
      "text/plain": [
       "'wo xiang shang qing hua da xue'"
      ]
     },
     "execution_count": 400,
     "metadata": {},
     "output_type": "execute_result"
    }
   ],
   "source": [
    "correct_sequence_pinyin('wo xiang shagn qinng hua da xeu')"
   ]
  },
  {
   "cell_type": "code",
   "execution_count": 401,
   "metadata": {},
   "outputs": [
    {
     "data": {
      "text/plain": [
       "'woxiangshagnqinnghuadaxeu'"
      ]
     },
     "execution_count": 401,
     "metadata": {},
     "output_type": "execute_result"
    }
   ],
   "source": [
    "correct_sequence_pinyin('woxiangshagnqinnghuadaxeu')"
   ]
  },
  {
   "cell_type": "markdown",
   "metadata": {},
   "source": [
    "```\n",
    "\"\"\"woxiangshagnqinnghuadaxeu\"\"\"  => \"\"\"wo xiang shagn qinng hua da xeu\"\"\"\n",
    "```"
   ]
  },
  {
   "cell_type": "code",
   "execution_count": 403,
   "metadata": {},
   "outputs": [
    {
     "data": {
      "text/plain": [
       "'wo xiang shang qing hua da xue'"
      ]
     },
     "execution_count": 403,
     "metadata": {},
     "output_type": "execute_result"
    }
   ],
   "source": [
    "correct_sequence_pinyin('wo xiang shagn qinng hua da xeu')"
   ]
  },
  {
   "cell_type": "markdown",
   "metadata": {},
   "source": [
    "```1-gram, 2-gram``"
   ]
  },
  {
   "cell_type": "code",
   "execution_count": null,
   "metadata": {},
   "outputs": [],
   "source": [
    "woxiangshagnqinnghuadaxeu"
   ]
  },
  {
   "cell_type": "markdown",
   "metadata": {},
   "source": [
    "```\n",
    "w oxiangshagnqinnghuadaxeu\n",
    "wo xiangshagnqinnghuadaxeu\n",
    "\n",
    "woxiang shagnqinnghuadaxeu\n",
    "wo xiang shagnqinnghuadaxeu\n",
    "\n",
    "-> revenue -> max - price\n",
    "\n",
    "-> split -> max probablity of this split -> language model\n",
    "```"
   ]
  },
  {
   "cell_type": "markdown",
   "metadata": {},
   "source": [
    "### 思考题-homework？ 如何在不带空格的时候完成自动修整？--> 如何完成拼音的自动分割？"
   ]
  },
  {
   "cell_type": "markdown",
   "metadata": {},
   "source": [
    "### 提示：使用第一节课提到的语言模型!"
   ]
  }
 ],
 "metadata": {
  "kernelspec": {
   "display_name": "Python 3",
   "language": "python",
   "name": "python3"
  },
  "language_info": {
   "codemirror_mode": {
    "name": "ipython",
    "version": 3
   },
   "file_extension": ".py",
   "mimetype": "text/x-python",
   "name": "python",
   "nbconvert_exporter": "python",
   "pygments_lexer": "ipython3",
   "version": "3.7.3"
  }
 },
 "nbformat": 4,
 "nbformat_minor": 2
}
