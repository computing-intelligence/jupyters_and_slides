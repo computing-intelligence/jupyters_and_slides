{
 "cells": [
  {
   "cell_type": "markdown",
   "metadata": {},
   "source": [
    "# AI for NLP. Lecture 1 Part 1"
   ]
  },
  {
   "cell_type": "markdown",
   "metadata": {},
   "source": [
    "## Build Graph"
   ]
  },
  {
   "cell_type": "code",
   "execution_count": 1,
   "metadata": {},
   "outputs": [],
   "source": [
    "coordination_source = \"\"\"\n",
    "{name:'兰州', geoCoord:[103.73, 36.03]},\n",
    "{name:'嘉峪关', geoCoord:[98.17, 39.47]},\n",
    "{name:'西宁', geoCoord:[101.74, 36.56]},\n",
    "{name:'成都', geoCoord:[104.06, 30.67]},\n",
    "{name:'石家庄', geoCoord:[114.48, 38.03]},\n",
    "{name:'拉萨', geoCoord:[102.73, 25.04]},\n",
    "{name:'贵阳', geoCoord:[106.71, 26.57]},\n",
    "{name:'武汉', geoCoord:[114.31, 30.52]},\n",
    "{name:'郑州', geoCoord:[113.65, 34.76]},\n",
    "{name:'济南', geoCoord:[117, 36.65]},\n",
    "{name:'南京', geoCoord:[118.78, 32.04]},\n",
    "{name:'合肥', geoCoord:[117.27, 31.86]},\n",
    "{name:'杭州', geoCoord:[120.19, 30.26]},\n",
    "{name:'南昌', geoCoord:[115.89, 28.68]},\n",
    "{name:'福州', geoCoord:[119.3, 26.08]},\n",
    "{name:'广州', geoCoord:[113.23, 23.16]},\n",
    "{name:'长沙', geoCoord:[113, 28.21]},\n",
    "//{name:'海口', geoCoord:[110.35, 20.02]},\n",
    "{name:'沈阳', geoCoord:[123.38, 41.8]},\n",
    "{name:'长春', geoCoord:[125.35, 43.88]},\n",
    "{name:'哈尔滨', geoCoord:[126.63, 45.75]},\n",
    "{name:'太原', geoCoord:[112.53, 37.87]},\n",
    "{name:'西安', geoCoord:[108.95, 34.27]},\n",
    "//{name:'台湾', geoCoord:[121.30, 25.03]},\n",
    "{name:'北京', geoCoord:[116.46, 39.92]},\n",
    "{name:'上海', geoCoord:[121.48, 31.22]},\n",
    "{name:'重庆', geoCoord:[106.54, 29.59]},\n",
    "{name:'天津', geoCoord:[117.2, 39.13]},\n",
    "{name:'呼和浩特', geoCoord:[111.65, 40.82]},\n",
    "{name:'南宁', geoCoord:[108.33, 22.84]},\n",
    "//{name:'西藏', geoCoord:[91.11, 29.97]},\n",
    "{name:'银川', geoCoord:[106.27, 38.47]},\n",
    "{name:'乌鲁木齐', geoCoord:[87.68, 43.77]},\n",
    "{name:'香港', geoCoord:[114.17, 22.28]},\n",
    "{name:'澳门', geoCoord:[113.54, 22.19]}\n",
    "\"\"\""
   ]
  },
  {
   "cell_type": "markdown",
   "metadata": {},
   "source": [
    "### Get data from source using regular expression"
   ]
  },
  {
   "cell_type": "code",
   "execution_count": 2,
   "metadata": {},
   "outputs": [],
   "source": [
    "import re"
   ]
  },
  {
   "cell_type": "markdown",
   "metadata": {},
   "source": [
    "## regular expression"
   ]
  },
  {
   "cell_type": "markdown",
   "metadata": {},
   "source": [
    "[a-z]\n",
    "[A-Z]\n",
    "[^a]: negation\n",
    "colou?r:  ? zero or one of its previous character\n",
    "* : zero or more of its previous character\n",
    "+: one or more\n",
    ".:match any single character\n",
    "^:start of the line\n",
    "$:end of the line\n",
    "| [cat|dog] : cat or dog\n",
    "(da): make the string da like a character\n"
   ]
  },
  {
   "cell_type": "code",
   "execution_count": 3,
   "metadata": {},
   "outputs": [],
   "source": [
    "l = \"color or colour\""
   ]
  },
  {
   "cell_type": "code",
   "execution_count": 4,
   "metadata": {},
   "outputs": [
    {
     "data": {
      "text/plain": [
       "['color', 'colour']"
      ]
     },
     "execution_count": 4,
     "metadata": {},
     "output_type": "execute_result"
    }
   ],
   "source": [
    "pattern = re.compile(\"colou?r\")\n",
    "pattern.findall(l)"
   ]
  },
  {
   "cell_type": "code",
   "execution_count": 5,
   "metadata": {},
   "outputs": [
    {
     "data": {
      "text/plain": [
       "[]"
      ]
     },
     "execution_count": 5,
     "metadata": {},
     "output_type": "execute_result"
    }
   ],
   "source": [
    "re.findall(\"[A-Z]\",l)"
   ]
  },
  {
   "cell_type": "code",
   "execution_count": 6,
   "metadata": {},
   "outputs": [],
   "source": [
    "def get_city_info(city_coordination):\n",
    "    city_location = {}\n",
    "    for line in city_coordination.split(\"\\n\"):\n",
    "        if line.startswith(\"//\"): continue\n",
    "        if line.strip() == \"\":continue\n",
    "            \n",
    "        city = re.findall(\"name:'(\\w+)'\",line)[0]\n",
    "        x_y = re.findall(\"Coord:\\[(\\d+.\\d+),\\s(\\d+.\\d+)\\]\",line)[0]\n",
    "        x_y = tuple(map(float,x_y))\n",
    "        city_location[city] = x_y\n",
    "    return city_location"
   ]
  },
  {
   "cell_type": "code",
   "execution_count": 7,
   "metadata": {},
   "outputs": [],
   "source": [
    "city_info = get_city_info(coordination_source)"
   ]
  },
  {
   "cell_type": "code",
   "execution_count": 8,
   "metadata": {},
   "outputs": [
    {
     "data": {
      "text/plain": [
       "{'兰州': (103.73, 36.03),\n",
       " '嘉峪关': (98.17, 39.47),\n",
       " '西宁': (101.74, 36.56),\n",
       " '成都': (104.06, 30.67),\n",
       " '石家庄': (114.48, 38.03),\n",
       " '拉萨': (102.73, 25.04),\n",
       " '贵阳': (106.71, 26.57),\n",
       " '武汉': (114.31, 30.52),\n",
       " '郑州': (113.65, 34.76),\n",
       " '济南': (117.0, 36.65),\n",
       " '南京': (118.78, 32.04),\n",
       " '合肥': (117.27, 31.86),\n",
       " '杭州': (120.19, 30.26),\n",
       " '南昌': (115.89, 28.68),\n",
       " '福州': (119.3, 26.08),\n",
       " '广州': (113.23, 23.16),\n",
       " '长沙': (113.0, 28.21),\n",
       " '沈阳': (123.38, 41.8),\n",
       " '长春': (125.35, 43.88),\n",
       " '哈尔滨': (126.63, 45.75),\n",
       " '太原': (112.53, 37.87),\n",
       " '西安': (108.95, 34.27),\n",
       " '北京': (116.46, 39.92),\n",
       " '上海': (121.48, 31.22),\n",
       " '重庆': (106.54, 29.59),\n",
       " '天津': (117.2, 39.13),\n",
       " '呼和浩特': (111.65, 40.82),\n",
       " '南宁': (108.33, 22.84),\n",
       " '银川': (106.27, 38.47),\n",
       " '乌鲁木齐': (87.68, 43.77),\n",
       " '香港': (114.17, 22.28),\n",
       " '澳门': (113.54, 22.19)}"
      ]
     },
     "execution_count": 8,
     "metadata": {},
     "output_type": "execute_result"
    }
   ],
   "source": [
    "city_info"
   ]
  },
  {
   "cell_type": "markdown",
   "metadata": {},
   "source": [
    "### Compute distance between cities"
   ]
  },
  {
   "cell_type": "code",
   "execution_count": 9,
   "metadata": {},
   "outputs": [],
   "source": [
    "import math\n",
    "\n",
    "def geo_distance(origin, destination):\n",
    "    \"\"\"\n",
    "    Calculate the Haversine distance.\n",
    "\n",
    "    Parameters\n",
    "    ----------\n",
    "    origin : tuple of float\n",
    "        (lat, long)\n",
    "    destination : tuple of float\n",
    "        (lat, long)\n",
    "\n",
    "    Returns\n",
    "    -------\n",
    "    distance_in_km : float\n",
    "\n",
    "    Examples\n",
    "    --------\n",
    "    >>> origin = (48.1372, 11.5756)  # Munich\n",
    "    >>> destination = (52.5186, 13.4083)  # Berlin\n",
    "    >>> round(distance(origin, destination), 1)\n",
    "    504.2\n",
    "    \"\"\"\n",
    "    lat1, lon1 = origin\n",
    "    lat2, lon2 = destination\n",
    "    radius = 6371  # km\n",
    "\n",
    "    dlat = math.radians(lat2 - lat1)\n",
    "    dlon = math.radians(lon2 - lon1)\n",
    "    a = (math.sin(dlat / 2) * math.sin(dlat / 2) +\n",
    "         math.cos(math.radians(lat1)) * math.cos(math.radians(lat2)) *\n",
    "         math.sin(dlon / 2) * math.sin(dlon / 2))\n",
    "    c = 2 * math.atan2(math.sqrt(a), math.sqrt(1 - a))\n",
    "    d = radius * c\n",
    "\n",
    "    return d"
   ]
  },
  {
   "cell_type": "code",
   "execution_count": 10,
   "metadata": {},
   "outputs": [
    {
     "data": {
      "text/plain": [
       "153.5185697155768"
      ]
     },
     "execution_count": 10,
     "metadata": {},
     "output_type": "execute_result"
    }
   ],
   "source": [
    "def get_city_distance(city1,city2):\n",
    "    return geo_distance(city_info[city1],city_info[city2])\n",
    "\n",
    "get_city_distance(\"杭州\",\"上海\")"
   ]
  },
  {
   "cell_type": "markdown",
   "metadata": {},
   "source": [
    "### Draw the graph"
   ]
  },
  {
   "cell_type": "code",
   "execution_count": 11,
   "metadata": {},
   "outputs": [],
   "source": [
    "import networkx as nx\n",
    "import matplotlib.pyplot as plt\n",
    "#%matplotlib inline\n",
    "\n",
    "#plt.rcParams['font.sans-serif'] = ['SimHei']\n",
    "#plt.rcParams['axes.unicode_minus'] = False\n"
   ]
  },
  {
   "cell_type": "code",
   "execution_count": 12,
   "metadata": {},
   "outputs": [
    {
     "data": {
      "text/plain": [
       "dict_keys(['兰州', '嘉峪关', '西宁', '成都', '石家庄', '拉萨', '贵阳', '武汉', '郑州', '济南', '南京', '合肥', '杭州', '南昌', '福州', '广州', '长沙', '沈阳', '长春', '哈尔滨', '太原', '西安', '北京', '上海', '重庆', '天津', '呼和浩特', '南宁', '银川', '乌鲁木齐', '香港', '澳门'])"
      ]
     },
     "execution_count": 12,
     "metadata": {},
     "output_type": "execute_result"
    }
   ],
   "source": [
    "city_info.keys()"
   ]
  },
  {
   "cell_type": "code",
   "execution_count": 13,
   "metadata": {},
   "outputs": [],
   "source": [
    "city_graph = nx.Graph()\n",
    "\n",
    "city_graph.add_nodes_from(list(city_info.keys()))\n",
    "                        "
   ]
  },
  {
   "cell_type": "code",
   "execution_count": 14,
   "metadata": {},
   "outputs": [
    {
     "data": {
      "image/png": "[encoded data removed]",
      "text/plain": [
       "<Figure size 432x288 with 1 Axes>"
      ]
     },
     "metadata": {},
     "output_type": "display_data"
    }
   ],
   "source": [
    "nx.draw(city_graph, city_info, with_labels=True, node_size=10)"
   ]
  },
  {
   "cell_type": "markdown",
   "metadata": {},
   "source": [
    "### Build connection between. Let's assume that two cities are connected if their distance is less than 700 km."
   ]
  },
  {
   "cell_type": "code",
   "execution_count": 73,
   "metadata": {},
   "outputs": [],
   "source": [
    "threshold = 700   # defined the threshold"
   ]
  },
  {
   "cell_type": "code",
   "execution_count": 74,
   "metadata": {},
   "outputs": [],
   "source": [
    "from collections import defaultdict"
   ]
  },
  {
   "cell_type": "code",
   "execution_count": 75,
   "metadata": {},
   "outputs": [],
   "source": [
    "def build_connection(city_info):\n",
    "    cities_connection = defaultdict(list)\n",
    "    cities = list(city_info.keys())\n",
    "    for c1 in cities:\n",
    "        for c2 in cities:\n",
    "            if c1 == c2 : continue\n",
    "            \n",
    "            if get_city_distance(c1,c2) < threshold:\n",
    "                cities_connection[c1].append(c2)\n",
    "    return cities_connection\n",
    "\n",
    "cities_connection = build_connection(city_info)"
   ]
  },
  {
   "cell_type": "code",
   "execution_count": 76,
   "metadata": {},
   "outputs": [
    {
     "data": {
      "text/plain": [
       "defaultdict(list,\n",
       "            {'兰州': ['嘉峪关', '西宁', '成都', '拉萨', '贵阳', '西安', '重庆', '南宁', '银川'],\n",
       "             '嘉峪关': ['兰州', '西宁', '成都', '拉萨'],\n",
       "             '西宁': ['兰州', '嘉峪关', '成都', '拉萨', '贵阳', '重庆', '银川'],\n",
       "             '成都': ['兰州', '嘉峪关', '西宁', '拉萨', '贵阳', '西安', '重庆', '南宁', '银川'],\n",
       "             '石家庄': ['武汉',\n",
       "              '郑州',\n",
       "              '济南',\n",
       "              '南京',\n",
       "              '合肥',\n",
       "              '南昌',\n",
       "              '广州',\n",
       "              '长沙',\n",
       "              '太原',\n",
       "              '西安',\n",
       "              '北京',\n",
       "              '天津',\n",
       "              '呼和浩特'],\n",
       "             '拉萨': ['兰州', '嘉峪关', '西宁', '成都', '贵阳', '重庆', '南宁', '银川'],\n",
       "             '贵阳': ['兰州', '西宁', '成都', '拉萨', '西安', '重庆', '南宁', '银川'],\n",
       "             '武汉': ['石家庄',\n",
       "              '郑州',\n",
       "              '济南',\n",
       "              '南京',\n",
       "              '合肥',\n",
       "              '杭州',\n",
       "              '南昌',\n",
       "              '福州',\n",
       "              '广州',\n",
       "              '长沙',\n",
       "              '太原',\n",
       "              '西安',\n",
       "              '北京',\n",
       "              '天津',\n",
       "              '呼和浩特',\n",
       "              '香港',\n",
       "              '澳门'],\n",
       "             '郑州': ['石家庄',\n",
       "              '武汉',\n",
       "              '济南',\n",
       "              '南京',\n",
       "              '合肥',\n",
       "              '南昌',\n",
       "              '广州',\n",
       "              '长沙',\n",
       "              '太原',\n",
       "              '西安',\n",
       "              '北京',\n",
       "              '天津',\n",
       "              '呼和浩特',\n",
       "              '香港',\n",
       "              '澳门'],\n",
       "             '济南': ['石家庄',\n",
       "              '武汉',\n",
       "              '郑州',\n",
       "              '南京',\n",
       "              '合肥',\n",
       "              '杭州',\n",
       "              '南昌',\n",
       "              '福州',\n",
       "              '长沙',\n",
       "              '太原',\n",
       "              '北京',\n",
       "              '上海',\n",
       "              '天津',\n",
       "              '呼和浩特'],\n",
       "             '南京': ['石家庄',\n",
       "              '武汉',\n",
       "              '郑州',\n",
       "              '济南',\n",
       "              '合肥',\n",
       "              '杭州',\n",
       "              '南昌',\n",
       "              '福州',\n",
       "              '长沙',\n",
       "              '北京',\n",
       "              '上海',\n",
       "              '天津'],\n",
       "             '合肥': ['石家庄',\n",
       "              '武汉',\n",
       "              '郑州',\n",
       "              '济南',\n",
       "              '南京',\n",
       "              '杭州',\n",
       "              '南昌',\n",
       "              '福州',\n",
       "              '广州',\n",
       "              '长沙',\n",
       "              '太原',\n",
       "              '北京',\n",
       "              '上海',\n",
       "              '天津',\n",
       "              '香港',\n",
       "              '澳门'],\n",
       "             '杭州': ['武汉', '济南', '南京', '合肥', '南昌', '福州', '北京', '上海', '天津'],\n",
       "             '南昌': ['石家庄',\n",
       "              '武汉',\n",
       "              '郑州',\n",
       "              '济南',\n",
       "              '南京',\n",
       "              '合肥',\n",
       "              '杭州',\n",
       "              '福州',\n",
       "              '广州',\n",
       "              '长沙',\n",
       "              '太原',\n",
       "              '北京',\n",
       "              '上海',\n",
       "              '天津',\n",
       "              '香港',\n",
       "              '澳门'],\n",
       "             '福州': ['武汉',\n",
       "              '济南',\n",
       "              '南京',\n",
       "              '合肥',\n",
       "              '杭州',\n",
       "              '南昌',\n",
       "              '广州',\n",
       "              '上海',\n",
       "              '香港',\n",
       "              '澳门'],\n",
       "             '广州': ['石家庄',\n",
       "              '武汉',\n",
       "              '郑州',\n",
       "              '合肥',\n",
       "              '南昌',\n",
       "              '福州',\n",
       "              '长沙',\n",
       "              '太原',\n",
       "              '西安',\n",
       "              '南宁',\n",
       "              '香港',\n",
       "              '澳门'],\n",
       "             '长沙': ['石家庄',\n",
       "              '武汉',\n",
       "              '郑州',\n",
       "              '济南',\n",
       "              '南京',\n",
       "              '合肥',\n",
       "              '南昌',\n",
       "              '广州',\n",
       "              '太原',\n",
       "              '西安',\n",
       "              '北京',\n",
       "              '天津',\n",
       "              '呼和浩特',\n",
       "              '南宁',\n",
       "              '香港',\n",
       "              '澳门'],\n",
       "             '沈阳': ['长春', '哈尔滨', '上海'],\n",
       "             '长春': ['沈阳', '哈尔滨'],\n",
       "             '哈尔滨': ['沈阳', '长春'],\n",
       "             '太原': ['石家庄',\n",
       "              '武汉',\n",
       "              '郑州',\n",
       "              '济南',\n",
       "              '合肥',\n",
       "              '南昌',\n",
       "              '广州',\n",
       "              '长沙',\n",
       "              '西安',\n",
       "              '北京',\n",
       "              '天津',\n",
       "              '呼和浩特',\n",
       "              '银川',\n",
       "              '澳门'],\n",
       "             '西安': ['兰州',\n",
       "              '成都',\n",
       "              '石家庄',\n",
       "              '贵阳',\n",
       "              '武汉',\n",
       "              '郑州',\n",
       "              '广州',\n",
       "              '长沙',\n",
       "              '太原',\n",
       "              '重庆',\n",
       "              '呼和浩特',\n",
       "              '南宁',\n",
       "              '银川'],\n",
       "             '北京': ['石家庄',\n",
       "              '武汉',\n",
       "              '郑州',\n",
       "              '济南',\n",
       "              '南京',\n",
       "              '合肥',\n",
       "              '杭州',\n",
       "              '南昌',\n",
       "              '长沙',\n",
       "              '太原',\n",
       "              '天津',\n",
       "              '呼和浩特'],\n",
       "             '上海': ['济南', '南京', '合肥', '杭州', '南昌', '福州', '沈阳', '天津'],\n",
       "             '重庆': ['兰州', '西宁', '成都', '拉萨', '贵阳', '西安', '呼和浩特', '南宁', '银川'],\n",
       "             '天津': ['石家庄',\n",
       "              '武汉',\n",
       "              '郑州',\n",
       "              '济南',\n",
       "              '南京',\n",
       "              '合肥',\n",
       "              '杭州',\n",
       "              '南昌',\n",
       "              '长沙',\n",
       "              '太原',\n",
       "              '北京',\n",
       "              '上海',\n",
       "              '呼和浩特'],\n",
       "             '呼和浩特': ['石家庄',\n",
       "              '武汉',\n",
       "              '郑州',\n",
       "              '济南',\n",
       "              '长沙',\n",
       "              '太原',\n",
       "              '西安',\n",
       "              '北京',\n",
       "              '重庆',\n",
       "              '天津',\n",
       "              '银川'],\n",
       "             '南宁': ['兰州',\n",
       "              '成都',\n",
       "              '拉萨',\n",
       "              '贵阳',\n",
       "              '广州',\n",
       "              '长沙',\n",
       "              '西安',\n",
       "              '重庆',\n",
       "              '银川',\n",
       "              '香港',\n",
       "              '澳门'],\n",
       "             '银川': ['兰州',\n",
       "              '西宁',\n",
       "              '成都',\n",
       "              '拉萨',\n",
       "              '贵阳',\n",
       "              '太原',\n",
       "              '西安',\n",
       "              '重庆',\n",
       "              '呼和浩特',\n",
       "              '南宁'],\n",
       "             '香港': ['武汉', '郑州', '合肥', '南昌', '福州', '广州', '长沙', '南宁', '澳门'],\n",
       "             '澳门': ['武汉',\n",
       "              '郑州',\n",
       "              '合肥',\n",
       "              '南昌',\n",
       "              '福州',\n",
       "              '广州',\n",
       "              '长沙',\n",
       "              '太原',\n",
       "              '南宁',\n",
       "              '香港']})"
      ]
     },
     "execution_count": 76,
     "metadata": {},
     "output_type": "execute_result"
    }
   ],
   "source": [
    "cities_connection"
   ]
  },
  {
   "cell_type": "markdown",
   "metadata": {},
   "source": [
    "### Draw connection graph"
   ]
  },
  {
   "cell_type": "code",
   "execution_count": 77,
   "metadata": {},
   "outputs": [],
   "source": [
    "cities_connection_graph = nx.Graph(cities_connection)"
   ]
  },
  {
   "cell_type": "code",
   "execution_count": 78,
   "metadata": {},
   "outputs": [
    {
     "data": {
      "image/png": "[encoded data removed]",
      "text/plain": [
       "<Figure size 432x288 with 1 Axes>"
      ]
     },
     "metadata": {},
     "output_type": "display_data"
    }
   ],
   "source": [
    "nx.draw(cities_connection_graph,city_info,with_labels=True,node_size=10)"
   ]
  },
  {
   "cell_type": "markdown",
   "metadata": {},
   "source": [
    "### BFS 1 version"
   ]
  },
  {
   "cell_type": "code",
   "execution_count": 79,
   "metadata": {},
   "outputs": [],
   "source": [
    "def search_1(graph,start,destination):\n",
    "    pathes = [[start]]\n",
    "    visited = set()\n",
    "    \n",
    "    while pathes:\n",
    "        path = pathes.pop(0)\n",
    "        froniter = path[-1]\n",
    "        \n",
    "        if froniter in visited: continue\n",
    "            \n",
    "        successsors = graph[froniter]\n",
    "        \n",
    "        for city in successsors:\n",
    "            if city in path: continue  # check loop\n",
    "            \n",
    "            new_path = path+[city]\n",
    "            \n",
    "            pathes.append(new_path)  #bfs\n",
    "            #pathes = [new_path] + pathes #dfs\n",
    "            \n",
    "            if city == destination:\n",
    "                return new_path\n",
    "        visited.add(froniter)"
   ]
  },
  {
   "cell_type": "code",
   "execution_count": 80,
   "metadata": {},
   "outputs": [
    {
     "data": {
      "text/plain": [
       "['上海', '合肥', '香港']"
      ]
     },
     "execution_count": 80,
     "metadata": {},
     "output_type": "execute_result"
    }
   ],
   "source": [
    "search_1(cities_connection,\"上海\",\"香港\")"
   ]
  },
  {
   "cell_type": "markdown",
   "metadata": {},
   "source": [
    "### Optimal search using variation of BFS"
   ]
  },
  {
   "cell_type": "code",
   "execution_count": 121,
   "metadata": {},
   "outputs": [],
   "source": [
    "def search_2(graph,start,destination,search_strategy):\n",
    "    pathes = [[start]]\n",
    "    #visited = set()\n",
    "    while pathes:\n",
    "        path = pathes.pop(0)\n",
    "        froniter = path[-1]\n",
    "        #if froniter in visited : continue\n",
    "        #if froniter == destination:\n",
    "        #    return path\n",
    "        successsors = graph[froniter]\n",
    "        \n",
    "        for city in successsors:\n",
    "            if city in path: continue  # check loop\n",
    "            \n",
    "            new_path = path+[city]\n",
    "            \n",
    "            pathes.append(new_path)  #bfs\n",
    "            \n",
    "        pathes = search_strategy(pathes)\n",
    "       # visited.add(froniter)\n",
    "        if pathes and (destination == pathes[0][-1]):\n",
    "            return pathes[0]  \n",
    "        "
   ]
  },
  {
   "cell_type": "code",
   "execution_count": 122,
   "metadata": {},
   "outputs": [],
   "source": [
    "def sort_by_distance(pathes):\n",
    "    def get_distance_of_path(path):\n",
    "        distance = 0\n",
    "        for i,_ in enumerate(path[:-1]):\n",
    "            distance += get_city_distance(path[i],path[i+1])\n",
    "        return distance\n",
    "    return sorted(pathes,key=get_distance_of_path)\n"
   ]
  },
  {
   "cell_type": "code",
   "execution_count": 123,
   "metadata": {},
   "outputs": [],
   "source": [
    "def get_distance_of_path(path):\n",
    "    distance = 0\n",
    "    for i,_ in enumerate(path[:-1]):\n",
    "        distance += get_city_distance(path[i],path[i+1])\n",
    "    return distance"
   ]
  },
  {
   "cell_type": "code",
   "execution_count": 124,
   "metadata": {},
   "outputs": [
    {
     "data": {
      "text/plain": [
       "752.66259009181"
      ]
     },
     "execution_count": 124,
     "metadata": {},
     "output_type": "execute_result"
    }
   ],
   "source": [
    "get_distance_of_path([\"北京\",\"济南\",\"上海\"])"
   ]
  },
  {
   "cell_type": "code",
   "execution_count": 125,
   "metadata": {},
   "outputs": [
    {
     "data": {
      "text/plain": [
       "732.5085345714293"
      ]
     },
     "execution_count": 125,
     "metadata": {},
     "output_type": "execute_result"
    }
   ],
   "source": [
    "get_distance_of_path([\"北京\",\"天津\",\"上海\"])"
   ]
  },
  {
   "cell_type": "code",
   "execution_count": 126,
   "metadata": {},
   "outputs": [
    {
     "data": {
      "text/plain": [
       "['北京', '济南', '上海']"
      ]
     },
     "execution_count": 126,
     "metadata": {},
     "output_type": "execute_result"
    }
   ],
   "source": [
    "search_2(cities_connection,\"北京\",\"上海\",search_strategy=lambda x:x)"
   ]
  },
  {
   "cell_type": "code",
   "execution_count": 127,
   "metadata": {},
   "outputs": [
    {
     "data": {
      "text/plain": [
       "['北京', '天津', '上海']"
      ]
     },
     "execution_count": 127,
     "metadata": {},
     "output_type": "execute_result"
    }
   ],
   "source": [
    "search_2(cities_connection,\"北京\",\"上海\",search_strategy=sort_by_distance)"
   ]
  },
  {
   "cell_type": "markdown",
   "metadata": {},
   "source": [
    "# AI for NLP Lecture 1 Part 2"
   ]
  },
  {
   "cell_type": "markdown",
   "metadata": {},
   "source": [
    "## Machine Learning"
   ]
  },
  {
   "cell_type": "code",
   "execution_count": 27,
   "metadata": {},
   "outputs": [],
   "source": [
    "from sklearn.datasets import load_boston\n",
    "import random"
   ]
  },
  {
   "cell_type": "code",
   "execution_count": 28,
   "metadata": {},
   "outputs": [],
   "source": [
    "dataset = load_boston()"
   ]
  },
  {
   "cell_type": "code",
   "execution_count": 29,
   "metadata": {},
   "outputs": [],
   "source": [
    "#dataset"
   ]
  },
  {
   "cell_type": "code",
   "execution_count": 30,
   "metadata": {},
   "outputs": [],
   "source": [
    "x,y=dataset['data'],dataset['target']"
   ]
  },
  {
   "cell_type": "code",
   "execution_count": 31,
   "metadata": {},
   "outputs": [
    {
     "data": {
      "text/plain": [
       "(506, 13)"
      ]
     },
     "execution_count": 31,
     "metadata": {},
     "output_type": "execute_result"
    }
   ],
   "source": [
    "x.shape"
   ]
  },
  {
   "cell_type": "code",
   "execution_count": 32,
   "metadata": {},
   "outputs": [
    {
     "data": {
      "text/plain": [
       "(506,)"
      ]
     },
     "execution_count": 32,
     "metadata": {},
     "output_type": "execute_result"
    }
   ],
   "source": [
    "y.shape"
   ]
  },
  {
   "cell_type": "code",
   "execution_count": 33,
   "metadata": {},
   "outputs": [
    {
     "data": {
      "text/plain": [
       "array([2.7310e-02, 0.0000e+00, 7.0700e+00, 0.0000e+00, 4.6900e-01,\n",
       "       6.4210e+00, 7.8900e+01, 4.9671e+00, 2.0000e+00, 2.4200e+02,\n",
       "       1.7800e+01, 3.9690e+02, 9.1400e+00])"
      ]
     },
     "execution_count": 33,
     "metadata": {},
     "output_type": "execute_result"
    }
   ],
   "source": [
    "x[1].shape\n",
    "x[1]"
   ]
  },
  {
   "cell_type": "code",
   "execution_count": 34,
   "metadata": {},
   "outputs": [
    {
     "data": {
      "text/plain": [
       "array(['CRIM', 'ZN', 'INDUS', 'CHAS', 'NOX', 'RM', 'AGE', 'DIS', 'RAD',\n",
       "       'TAX', 'PTRATIO', 'B', 'LSTAT'], dtype='<U7')"
      ]
     },
     "execution_count": 34,
     "metadata": {},
     "output_type": "execute_result"
    }
   ],
   "source": [
    "dataset.feature_names"
   ]
  },
  {
   "cell_type": "code",
   "execution_count": 35,
   "metadata": {},
   "outputs": [
    {
     "data": {
      "text/plain": [
       "\".. _boston_dataset:\\n\\nBoston house prices dataset\\n---------------------------\\n\\n**Data Set Characteristics:**  \\n\\n    :Number of Instances: 506 \\n\\n    :Number of Attributes: 13 numeric/categorical predictive. Median Value (attribute 14) is usually the target.\\n\\n    :Attribute Information (in order):\\n        - CRIM     per capita crime rate by town\\n        - ZN       proportion of residential land zoned for lots over 25,000 sq.ft.\\n        - INDUS    proportion of non-retail business acres per town\\n        - CHAS     Charles River dummy variable (= 1 if tract bounds river; 0 otherwise)\\n        - NOX      nitric oxides concentration (parts per 10 million)\\n        - RM       average number of rooms per dwelling\\n        - AGE      proportion of owner-occupied units built prior to 1940\\n        - DIS      weighted distances to five Boston employment centres\\n        - RAD      index of accessibility to radial highways\\n        - TAX      full-value property-tax rate per $10,000\\n        - PTRATIO  pupil-teacher ratio by town\\n        - B        1000(Bk - 0.63)^2 where Bk is the proportion of blacks by town\\n        - LSTAT    % lower status of the population\\n        - MEDV     Median value of owner-occupied homes in $1000's\\n\\n    :Missing Attribute Values: None\\n\\n    :Creator: Harrison, D. and Rubinfeld, D.L.\\n\\nThis is a copy of UCI ML housing dataset.\\nhttps://archive.ics.uci.edu/ml/machine-learning-databases/housing/\\n\\n\\nThis dataset was taken from the StatLib library which is maintained at Carnegie Mellon University.\\n\\nThe Boston house-price data of Harrison, D. and Rubinfeld, D.L. 'Hedonic\\nprices and the demand for clean air', J. Environ. Economics & Management,\\nvol.5, 81-102, 1978.   Used in Belsley, Kuh & Welsch, 'Regression diagnostics\\n...', Wiley, 1980.   N.B. Various transformations are used in the table on\\npages 244-261 of the latter.\\n\\nThe Boston house-price data has been used in many machine learning papers that address regression\\nproblems.   \\n     \\n.. topic:: References\\n\\n   - Belsley, Kuh & Welsch, 'Regression diagnostics: Identifying Influential Data and Sources of Collinearity', Wiley, 1980. 244-261.\\n   - Quinlan,R. (1993). Combining Instance-Based and Model-Based Learning. In Proceedings on the Tenth International Conference of Machine Learning, 236-243, University of Massachusetts, Amherst. Morgan Kaufmann.\\n\""
      ]
     },
     "execution_count": 35,
     "metadata": {},
     "output_type": "execute_result"
    }
   ],
   "source": [
    "dataset['DESCR']"
   ]
  },
  {
   "cell_type": "code",
   "execution_count": 36,
   "metadata": {},
   "outputs": [],
   "source": [
    "X_rm = x[:,5]"
   ]
  },
  {
   "cell_type": "code",
   "execution_count": 37,
   "metadata": {},
   "outputs": [
    {
     "data": {
      "text/plain": [
       "<matplotlib.collections.PathCollection at 0x1a21097470>"
      ]
     },
     "execution_count": 37,
     "metadata": {},
     "output_type": "execute_result"
    },
    {
     "name": "stderr",
     "output_type": "stream",
     "text": [
      "findfont: Font family ['sans-serif'] not found. Falling back to DejaVu Sans.\n"
     ]
    },
    {
     "data": {
      "image/png": "[encoded data removed]",
      "text/plain": [
       "<Figure size 432x288 with 1 Axes>"
      ]
     },
     "metadata": {
      "needs_background": "light"
     },
     "output_type": "display_data"
    }
   ],
   "source": [
    "# plot the RM with respect to y\n",
    "plt.scatter(X_rm,y)"
   ]
  },
  {
   "cell_type": "markdown",
   "metadata": {},
   "source": [
    "### Gradient descent"
   ]
  },
  {
   "cell_type": "markdown",
   "metadata": {},
   "source": [
    "### Assume that the target funciton is a linear function\n",
    "$$ y = k*rm + b$$"
   ]
  },
  {
   "cell_type": "code",
   "execution_count": 38,
   "metadata": {},
   "outputs": [],
   "source": [
    "#define target function\n",
    "def price(rm, k, b):\n",
    "    return k * rm + b"
   ]
  },
  {
   "cell_type": "markdown",
   "metadata": {},
   "source": [
    "### Define mean square loss"
   ]
  },
  {
   "cell_type": "markdown",
   "metadata": {},
   "source": [
    "$$ loss = \\frac{1}{n} \\sum{(y_i - \\hat{y_i})}^2$$"
   ]
  },
  {
   "cell_type": "markdown",
   "metadata": {},
   "source": [
    "$$ loss = \\frac{1}{n} \\sum{(y_i - (kx_i + b_i))}^2 $$"
   ]
  },
  {
   "cell_type": "code",
   "execution_count": 39,
   "metadata": {},
   "outputs": [],
   "source": [
    "# define loss function \n",
    "def loss(y,y_hat):\n",
    "    return sum((y_i - y_hat_i)**2 for y_i, y_hat_i in zip(list(y),list(y_hat)))/len(list(y))"
   ]
  },
  {
   "cell_type": "markdown",
   "metadata": {},
   "source": [
    "### Define partial derivatives"
   ]
  },
  {
   "cell_type": "markdown",
   "metadata": {},
   "source": [
    "$$ \\frac{\\partial{loss}}{\\partial{k}} = -\\frac{2}{n}\\sum(y_i - \\hat{y_i})x_i$$\n"
   ]
  },
  {
   "cell_type": "markdown",
   "metadata": {},
   "source": [
    "$$ \\frac{\\partial{loss}}{\\partial{b}} = -\\frac{2}{n}\\sum(y_i - \\hat{y_i})$$"
   ]
  },
  {
   "cell_type": "code",
   "execution_count": 40,
   "metadata": {},
   "outputs": [],
   "source": [
    "# define partial derivative \n",
    "def partial_derivative_k(x, y, y_hat):\n",
    "    n = len(y)\n",
    "    gradient = 0\n",
    "    for x_i, y_i, y_hat_i in zip(list(x),list(y),list(y_hat)):\n",
    "        gradient += (y_i-y_hat_i) * x_i\n",
    "    return -2/n * gradient\n",
    "\n",
    "def partial_derivative_b(y, y_hat):\n",
    "    n = len(y)\n",
    "    gradient = 0\n",
    "    for y_i, y_hat_i in zip(list(y),list(y_hat)):\n",
    "        gradient += (y_i-y_hat_i)\n",
    "    return -2 / n * gradient"
   ]
  },
  {
   "cell_type": "code",
   "execution_count": 41,
   "metadata": {},
   "outputs": [
    {
     "name": "stdout",
     "output_type": "stream",
     "text": [
      "Iteration 0, the loss is 355230.0269848921, parameters k is -77.80509376145801 and b is -81.33560355113929\n",
      "Iteration 1, the loss is 299399.3406932433, parameters k is -70.26782836969524 and b is -80.14991359586001\n",
      "Iteration 2, the loss is 252344.82767585458, parameters k is -63.348286538341064 and b is -79.06133293502663\n",
      "Iteration 3, the loss is 212686.9380238302, parameters k is -56.995842978634045 and b is -78.061903016591\n",
      "Iteration 4, the loss is 179262.9769303395, parameters k is -51.16402137720286 and b is -77.14431752847035\n",
      "Iteration 5, the loss is 151093.01666307615, parameters k is -45.81015436843965 and b is -76.30186894448045\n",
      "Iteration 6, the loss is 127351.16692399842, parameters k is -40.8950713737021 and b is -75.52839945107569\n",
      "Iteration 7, the loss is 107341.3612972761, parameters k is -36.38281202352953 and b is -74.81825589586856\n",
      "Iteration 8, the loss is 90476.94988958088, parameters k is -32.240363066227154 and b is -74.16624842832535\n",
      "Iteration 9, the loss is 76263.49985727253, parameters k is -28.437416838002612 and b is -73.56761253004704\n",
      "Iteration 10, the loss is 64284.29956424404, parameters k is -24.946149527586332 and b is -73.0179741568436\n",
      "Iteration 11, the loss is 54188.14137957013, parameters k is -21.741017613086672 and b is -72.5133177375755\n",
      "Iteration 12, the loss is 45679.02492953265, parameters k is -18.79857098178156 and b is -72.04995679563768\n",
      "Iteration 13, the loss is 38507.478922718095, parameters k is -16.097281365603262 and b is -71.62450697814783\n",
      "Iteration 14, the loss is 32463.24712040014, parameters k is -13.61738483712466 and b is -71.23386129551703\n",
      "Iteration 15, the loss is 27369.124018599545, parameters k is -11.340737213724331 and b is -70.87516739025138\n",
      "Iteration 16, the loss is 23075.759515598547, parameters k is -9.250681312045682 and b is -70.54580666868007\n",
      "Iteration 17, the loss is 19457.280247521707, parameters k is -7.3319250815640835 and b is -70.24337514293425\n",
      "Iteration 18, the loss is 16407.59921776788, parameters k is -5.57042972566898 and b is -69.965665843014\n",
      "Iteration 19, the loss is 13837.30552556075, parameters k is -3.9533069917381933 and b is -69.71065267026721\n",
      "Iteration 20, the loss is 11671.043006301887, parameters k is -2.468724878763312 and b is -69.47647557415038\n",
      "Iteration 21, the loss is 9845.300930385683, parameters k is -1.105821072669094 and b is -69.26142694382189\n",
      "Iteration 22, the loss is 8306.55198791624, parameters k is 0.14537652399316991 and b is -69.06393911500692\n",
      "Iteration 23, the loss is 7009.682968535475, parameters k is 1.2940227493949594 and b is -68.88257290073228\n",
      "Iteration 24, the loss is 5916.672126843265, parameters k is 2.348522160589292 and b is -68.71600706202032\n",
      "Iteration 25, the loss is 4995.474456248531, parameters k is 3.3165905225011514 and b is -68.56302864150786\n",
      "Iteration 26, the loss is 4219.0821895744375, parameters k is 4.2053112576121885 and b is -68.42252408926957\n",
      "Iteration 27, the loss is 3564.732982060525, parameters k is 5.021187269333969 and b is -68.29347111592102\n",
      "Iteration 28, the loss is 3013.242562174741, parameters k is 5.770188518217301 and b is -68.17493121339734\n",
      "Iteration 29, the loss is 2548.442284810971, parameters k is 6.4577956990722605 and b is -68.0660427886885\n",
      "Iteration 30, the loss is 2156.705096988289, parameters k is 7.08904033854723 and b is -67.96601486029667\n",
      "Iteration 31, the loss is 1826.5460182568127, parameters k is 7.668541606526814 and b is -67.87412127129777\n",
      "Iteration 32, the loss is 1548.2854226461327, parameters k is 8.200540110666278 and b is -67.78969537666939\n",
      "Iteration 33, the loss is 1313.7652502156293, parameters k is 8.688928921308381 and b is -67.71212516601653\n",
      "Iteration 34, the loss is 1116.1098280624242, parameters k is 9.137282053765487 and b is -67.6408487860125\n",
      "Iteration 35, the loss is 949.5242885082398, parameters k is 9.548880616347589 and b is -67.5753504297963\n",
      "Iteration 36, the loss is 809.1246744650762, parameters k is 9.926736815439106 and b is -67.51515656325292\n",
      "Iteration 37, the loss is 690.794750988206, parameters k is 10.27361599324916 and b is -67.45983246056718\n",
      "Iteration 38, the loss is 591.0653250001857, parameters k is 10.592056859466807 and b is -67.40897902370507\n",
      "Iteration 39, the loss is 507.0125350669196, parameters k is 10.884390064839005 and b is -67.36222986255302\n",
      "Iteration 40, the loss is 436.17212927306133, parameters k is 11.15275525255841 and b is -67.31924861435337\n",
      "Iteration 41, the loss is 376.4672179851015, parameters k is 11.399116712211457 and b is -67.27972648282433\n",
      "Iteration 42, the loss is 326.14738334887846, parameters k is 11.625277750813359 and b is -67.24337997896046\n",
      "Iteration 43, the loss is 283.7373603263586, parameters k is 11.832893886070663 and b is -67.20994884698487\n",
      "Iteration 44, the loss is 247.99378469609715, parameters k is 12.02348495839521 and b is -67.17919416027925\n",
      "Iteration 45, the loss is 217.86873994999965, parameters k is 12.198446250282828 and b is -67.15089657336115\n",
      "Iteration 46, the loss is 192.4790343498786, parameters k is 12.359058694407754 and b is -67.12485471711979\n",
      "Iteration 47, the loss is 171.08030740482178, parameters k is 12.506498245116749 and b is -67.10088372556967\n",
      "Iteration 48, the loss is 153.045206619923, parameters k is 12.641844481886142 and b is -67.07881388334354\n",
      "Iteration 49, the loss is 137.84499469965075, parameters k is 12.766088507685982 and b is -67.05848938402947\n",
      "Iteration 50, the loss is 125.03404796360986, parameters k is 12.880140200036886 and b is -67.03976719026795\n",
      "Iteration 51, the loss is 114.23679149736219, parameters k is 12.98483486780942 and b is -67.02251598726932\n",
      "Iteration 52, the loss is 105.13668800147664, parameters k is 13.080939362468136 and b is -67.00661522209519\n",
      "Iteration 53, the loss is 97.4669575125436, parameters k is 13.16915768847103 and b is -66.99195422167524\n",
      "Iteration 54, the loss is 91.00275591581014, parameters k is 13.250136153870953 and b is -66.97843138310651\n",
      "Iteration 55, the loss is 85.55458293811974, parameters k is 13.324468098801525 and b is -66.9659534303115\n",
      "Iteration 56, the loss is 80.96272635588942, parameters k is 13.392698236441879 and b is -66.95443473161646\n",
      "Iteration 57, the loss is 77.09257953274529, parameters k is 13.455326638219356 and b is -66.94379667325734\n",
      "Iteration 58, the loss is 73.83069500580937, parameters k is 13.512812392406508 and b is -66.9339670842298\n",
      "Iteration 59, the loss is 71.0814584192072, parameters k is 13.565576962879232 and b is -66.92487970827543\n",
      "Iteration 60, the loss is 68.76428529076972, parameters k is 13.614007272609228 and b is -66.91647371914101\n",
      "Iteration 61, the loss is 66.8112584264004, parameters k is 13.658458534450048 and b is -66.9086932755647\n",
      "Iteration 62, the loss is 65.16513671552933, parameters k is 13.699256849927213 and b is -66.901487112733\n",
      "Iteration 63, the loss is 63.77767692928364, parameters k is 13.736701595045508 and b is -66.89480816721974\n",
      "Iteration 64, the loss is 62.60821931964404, parameters k is 13.771067610568405 and b is -66.8886132326631\n",
      "Iteration 65, the loss is 61.62249555201509, parameters k is 13.802607212793992 and b is -66.88286264366141\n",
      "Iteration 66, the loss is 60.79162402202962, parameters k is 13.831552039538572 and b is -66.87751998557513\n",
      "Iteration 67, the loss is 60.09126310116515, parameters k is 13.858114744833403 and b is -66.87255182811202\n",
      "Iteration 68, the loss is 59.500897485922586, parameters k is 13.882490554733248 and b is -66.86792748074608\n",
      "Iteration 69, the loss is 59.00323672766656, parameters k is 13.904858695619257 and b is -66.86361876818108\n",
      "Iteration 70, the loss is 58.58370830915345, parameters k is 13.925383705445839 and b is -66.85959982421602\n",
      "Iteration 71, the loss is 58.23003040570041, parameters k is 13.944216637524834 and b is -66.855846902504\n",
      "Iteration 72, the loss is 57.93185180515831, parameters k is 13.961496165654031 and b is -66.8523382028205\n",
      "Iteration 73, the loss is 57.68044842981685, parameters k is 13.977349598675312 and b is -66.84905371156974\n",
      "Iteration 74, the loss is 57.468467562834626, parameters k is 13.991893811885086 and b is -66.84597505536212\n",
      "Iteration 75, the loss is 57.289712280394404, parameters k is 14.005236102111363 and b is -66.84308536659186\n",
      "Iteration 76, the loss is 57.13895976953748, parameters k is 14.01747497271331 and b is -66.84036916003107\n",
      "Iteration 77, the loss is 57.01180820509985, parameters k is 14.0287008542465 and b is -66.8378122195375\n",
      "Iteration 78, the loss is 56.904547696466864, parameters k is 14.038996766066306 and b is -66.83540149404713\n",
      "Iteration 79, the loss is 56.81405152055008, parameters k is 14.048438923709877 and b is -66.8331250020907\n",
      "Iteration 80, the loss is 56.73768445214023, parameters k is 14.05709729650034 and b is -66.83097174413541\n",
      "Iteration 81, the loss is 56.6732255040541, parameters k is 14.06503611945279 and b is -66.82893162211079\n",
      "Iteration 82, the loss is 56.61880281196316, parameters k is 14.072314363227223 and b is -66.82699536552965\n",
      "Iteration 83, the loss is 56.572838754847105, parameters k is 14.078986165566661 and b is -66.82515446366389\n",
      "Iteration 84, the loss is 56.53400370211031, parameters k is 14.085101227376938 and b is -66.82340110327868\n",
      "Iteration 85, the loss is 56.501177031309766, parameters k is 14.09070517634593 and b is -66.82172811146971\n",
      "Iteration 86, the loss is 56.47341427361042, parameters k is 14.095839900762504 and b is -66.82012890318515\n",
      "Iteration 87, the loss is 56.44991942373355, parameters k is 14.100543855977483 and b is -66.81859743304844\n",
      "Iteration 88, the loss is 56.430021602577106, parameters k is 14.104852345748712 and b is -66.8171281511294\n",
      "Iteration 89, the loss is 56.41315538830057, parameters k is 14.108797780528612 and b is -66.81571596234014\n",
      "Iteration 90, the loss is 56.39884423921932, parameters k is 14.112409914583864 and b is -66.81435618915864\n",
      "Iteration 91, the loss is 56.38668652249728, parameters k is 14.115716063682067 and b is -66.81304453740731\n",
      "Iteration 92, the loss is 56.37634373902678, parameters k is 14.118741304937947 and b is -66.8117770648361\n",
      "Iteration 93, the loss is 56.36753059927099, parameters k is 14.121508660281274 and b is -66.81055015228047\n",
      "Iteration 94, the loss is 56.36000665910994, parameters k is 14.124039264888715 and b is -66.80936047718306\n",
      "Iteration 95, the loss is 56.35356927047155, parameters k is 14.126352521811947 and b is -66.80820498928533\n",
      "Iteration 96, the loss is 56.34804764007016, parameters k is 14.128466243933259 and b is -66.8070808883114\n",
      "Iteration 97, the loss is 56.34329782206869, parameters k is 14.130396784287258 and b is -66.80598560348088\n",
      "Iteration 98, the loss is 56.33919849785695, parameters k is 14.132159155702103 and b is -66.8049167747006\n",
      "Iteration 99, the loss is 56.335647419218105, parameters k is 14.133767140635591 and b is -66.80387223529789\n",
      "Iteration 100, the loss is 56.33255841060291, parameters k is 14.13523339200967 and b is -66.80284999616879\n",
      "Iteration 101, the loss is 56.32985884262449, parameters k is 14.1365695257811 and b is -66.80184823122556\n",
      "Iteration 102, the loss is 56.327487502701544, parameters k is 14.137786205925524 and b is -66.80086526403672\n",
      "Iteration 103, the loss is 56.32539280042017, parameters k is 14.138893222456698 and b is -66.79989955556199\n",
      "Iteration 104, the loss is 56.323531254999835, parameters k is 14.139899563051692 and b is -66.79894969289253\n",
      "Iteration 105, the loss is 56.32186622051898, parameters k is 14.140813478806075 and b is -66.79801437891383\n",
      "Iteration 106, the loss is 56.320366811525155, parameters k is 14.141642544600154 and b is -66.79709242281585\n",
      "Iteration 107, the loss is 56.31900699753173, parameters k is 14.142393714517933 and b is -66.79618273138087\n",
      "Iteration 108, the loss is 56.31776483985283, parameters k is 14.143073372724222 and b is -66.79528430098534\n",
      "Iteration 109, the loss is 56.31662184840265, parameters k is 14.143687380172139 and b is -66.79439621025728\n",
      "Iteration 110, the loss is 56.315562439600626, parameters k is 14.144241117482716 and b is -66.79351761333531\n",
      "Iteration 111, the loss is 56.31457347949013, parameters k is 14.144739524310326 and b is -66.79264773368027\n",
      "Iteration 112, the loss is 56.31364389867604, parameters k is 14.145187135481928 and b is -66.79178585839392\n",
      "Iteration 113, the loss is 56.31276436779008, parameters k is 14.145588114174535 and b is -66.79093133300326\n",
      "Iteration 114, the loss is 56.311927023972295, parameters k is 14.14594628237364 and b is -66.79008355667234\n",
      "Iteration 115, the loss is 56.31112524034607, parameters k is 14.14626514883543 and b is -66.78924197780645\n",
      "Iteration 116, the loss is 56.31035343173071, parameters k is 14.146547934757374 and b is -66.78840609001655\n",
      "Iteration 117, the loss is 56.30960689089484, parameters k is 14.14679759734497 and b is -66.78757542841448\n",
      "Iteration 118, the loss is 56.30888165054906, parameters k is 14.147016851447118 and b is -66.7867495662118\n",
      "Iteration 119, the loss is 56.30817436703227, parameters k is 14.147208189418349 and b is -66.78592811159724\n",
      "Iteration 120, the loss is 56.307482222282225, parameters k is 14.147373899353264 and b is -66.78511070487032\n",
      "Iteration 121, the loss is 56.30680284121515, parameters k is 14.147516081826577 and b is -66.78429701580956\n",
      "Iteration 122, the loss is 56.30613422209257, parameters k is 14.147636665261231 and b is -66.78348674125664\n",
      "Iteration 123, the loss is 56.30547467783458, parameters k is 14.147737420037028 and b is -66.78267960289843\n",
      "Iteration 124, the loss is 56.30482278655749, parameters k is 14.147819971442996 and b is -66.78187534523079\n",
      "Iteration 125, the loss is 56.304177349887034, parameters k is 14.147885811568235 and b is -66.7810737336893\n",
      "Iteration 126, the loss is 56.30353735782443, parameters k is 14.147936310218277 and b is -66.78027455293311\n",
      "Iteration 127, the loss is 56.302901959135006, parameters k is 14.147972724936778 and b is -66.77947760526955\n",
      "Iteration 128, the loss is 56.302270436391616, parameters k is 14.1479962102059 and b is -66.77868270920769\n",
      "Iteration 129, the loss is 56.30164218494132, parameters k is 14.148007825892671 and b is -66.77788969813062\n",
      "Iteration 130, the loss is 56.30101669517789, parameters k is 14.148008545003137 and b is -66.7770984190764\n",
      "Iteration 131, the loss is 56.300393537601195, parameters k is 14.14799926080101 and b is -66.77630873161897\n",
      "Iteration 132, the loss is 56.29977235022525, parameters k is 14.147980793342928 and b is -66.77552050684082\n",
      "Iteration 133, the loss is 56.29915282796518, parameters k is 14.147953895478105 and b is -66.77473362638979\n",
      "Iteration 134, the loss is 56.29853471369308, parameters k is 14.147919258356294 and b is -66.77394798161316\n",
      "Iteration 135, the loss is 56.29791779069965, parameters k is 14.14787751648434 and b is -66.7731634727628\n",
      "Iteration 136, the loss is 56.29730187634017, parameters k is 14.147829252368323 and b is -66.77238000826533\n",
      "Iteration 137, the loss is 56.29668681668024, parameters k is 14.147775000775265 and b is -66.77159750405221\n",
      "Iteration 138, the loss is 56.29607248198265, parameters k is 14.147715252645567 and b is -66.77081588294466\n",
      "Iteration 139, the loss is 56.295458762903465, parameters k is 14.147650458684792 and b is -66.77003507408902\n",
      "Iteration 140, the loss is 56.294845567286956, parameters k is 14.147581032661108 and b is -66.76925501243839\n",
      "Iteration 141, the loss is 56.2942328174632, parameters k is 14.14750735443247 and b is -66.76847563827671\n",
      "Iteration 142, the loss is 56.29362044797096, parameters k is 14.147429772725719 and b is -66.7676968967819\n",
      "Iteration 143, the loss is 56.29300840363916, parameters k is 14.147348607687922 and b is -66.76691873762475\n",
      "Iteration 144, the loss is 56.292396637968885, parameters k is 14.147264153228615 and b is -66.76614111460074\n",
      "Iteration 145, the loss is 56.29178511177012, parameters k is 14.147176679170087 and b is -66.76536398529198\n",
      "Iteration 146, the loss is 56.29117379201327, parameters k is 14.147086433221446 and b is -66.76458731075688\n",
      "Iteration 147, the loss is 56.2905626508603, parameters k is 14.146993642790891 and b is -66.76381105524527\n",
      "Iteration 148, the loss is 56.289951664849056, parameters k is 14.146898516649467 and b is -66.76303518593681\n",
      "Iteration 149, the loss is 56.28934081420508, parameters k is 14.146801246458464 and b is -66.76225967270094\n",
      "Iteration 150, the loss is 56.288730082262326, parameters k is 14.146702008171646 and b is -66.76148448787636\n",
      "Iteration 151, the loss is 56.288119454973966, parameters k is 14.146600963322546 and b is -66.76070960606873\n",
      "Iteration 152, the loss is 56.2875089205013, parameters k is 14.146498260206277 and b is -66.75993500396486\n",
      "Iteration 153, the loss is 56.28689846886629, parameters k is 14.146394034964478 and b is -66.75916066016211\n",
      "Iteration 154, the loss is 56.286288091659074, parameters k is 14.14628841258135 and b is -66.7583865550119\n",
      "Iteration 155, the loss is 56.285677781791655, parameters k is 14.146181507798056 and b is -66.75761267047587\n",
      "Iteration 156, the loss is 56.28506753328982, parameters k is 14.146073425952189 and b is -66.75683898999395\n",
      "Iteration 157, the loss is 56.28445734111843, parameters k is 14.145964263748434 and b is -66.75606549836323\n",
      "Iteration 158, the loss is 56.28384720103354, parameters k is 14.145854109966077 and b is -66.75529218162669\n",
      "Iteration 159, the loss is 56.283237109458, parameters k is 14.145743046108528 and b is -66.75451902697112\n",
      "Iteration 160, the loss is 56.282627063376914, parameters k is 14.14563114699961 and b is -66.7537460226334\n",
      "Iteration 161, the loss is 56.2820170602489, parameters k is 14.145518481330985 and b is -66.75297315781437\n",
      "Iteration 162, the loss is 56.281407097932004, parameters k is 14.14540511216471 and b is -66.7522004225999\n",
      "Iteration 163, the loss is 56.280797174620616, parameters k is 14.145291097394612 and b is -66.75142780788835\n",
      "Iteration 164, the loss is 56.28018728879293, parameters k is 14.145176490169847 and b is -66.75065530532392\n",
      "Iteration 165, the loss is 56.279577439165855, parameters k is 14.145061339283746 and b is -66.74988290723562\n",
      "Iteration 166, the loss is 56.27896762465801, parameters k is 14.144945689530795 and b is -66.74911060658106\n",
      "Iteration 167, the loss is 56.27835784435764, parameters k is 14.144829582034363 and b is -66.74833839689497\n",
      "Iteration 168, the loss is 56.27774809749616, parameters k is 14.144713054547564 and b is -66.74756627224193\n",
      "Iteration 169, the loss is 56.27713838342557, parameters k is 14.144596141729462 and b is -66.74679422717288\n",
      "Iteration 170, the loss is 56.27652870159946, parameters k is 14.144478875398645 and b is -66.74602225668535\n",
      "Iteration 171, the loss is 56.27591905155714, parameters k is 14.14436128476602 and b is -66.74525035618676\n",
      "Iteration 172, the loss is 56.27530943291014, parameters k is 14.144243396648516 and b is -66.7444785214609\n",
      "Iteration 173, the loss is 56.27469984533071, parameters k is 14.144125235665289 and b is -66.74370674863707\n",
      "Iteration 174, the loss is 56.27409028854252, parameters k is 14.144006824417831 and b is -66.74293503416172\n",
      "Iteration 175, the loss is 56.27348076231242, parameters k is 14.143888183655337 and b is -66.74216337477252\n",
      "Iteration 176, the loss is 56.27287126644368, parameters k is 14.143769332426501 and b is -66.74139176747447\n",
      "Iteration 177, the loss is 56.272261800770266, parameters k is 14.143650288218886 and b is -66.74062020951797\n",
      "Iteration 178, the loss is 56.271652365152114, parameters k is 14.14353106708686 and b is -66.73984869837875\n",
      "Iteration 179, the loss is 56.27104295947072, parameters k is 14.143411683769058 and b is -66.73907723173936\n",
      "Iteration 180, the loss is 56.27043358362633, parameters k is 14.143292151796208 and b is -66.73830580747223\n",
      "Iteration 181, the loss is 56.269824237534344, parameters k is 14.143172483590131 and b is -66.73753442362414\n",
      "Iteration 182, the loss is 56.269214921123336, parameters k is 14.143052690554613 and b is -66.7367630784019\n",
      "Iteration 183, the loss is 56.26860563433294, parameters k is 14.142932783158843 and b is -66.73599177015926\n",
      "Iteration 184, the loss is 56.26799637711205, parameters k is 14.142812771014004 and b is -66.73522049738482\n",
      "Iteration 185, the loss is 56.267387149417374, parameters k is 14.142692662943597 and b is -66.73444925869101\n",
      "Iteration 186, the loss is 56.26677795121202, parameters k is 14.142572467047987 and b is -66.73367805280398\n",
      "Iteration 187, the loss is 56.26616878246502, parameters k is 14.142452190763672 and b is -66.7329068785542\n",
      "Iteration 188, the loss is 56.26555964314969, parameters k is 14.14233184091769 and b is -66.73213573486798\n",
      "Iteration 189, the loss is 56.26495053324361, parameters k is 14.142211423777564 and b is -66.73136462075956\n",
      "Iteration 190, the loss is 56.26434145272753, parameters k is 14.142090945097161 and b is -66.73059353532396\n",
      "Iteration 191, the loss is 56.26373240158499, parameters k is 14.141970410158786 and b is -66.72982247773032\n",
      "Iteration 192, the loss is 56.26312337980186, parameters k is 14.141849823811828 and b is -66.72905144721584\n",
      "Iteration 193, the loss is 56.26251438736624, parameters k is 14.141729190508242 and b is -66.72828044308017\n",
      "Iteration 194, the loss is 56.26190542426753, parameters k is 14.141608514335116 and b is -66.72750946468035\n",
      "Iteration 195, the loss is 56.26129649049696, parameters k is 14.141487799044581 and b is -66.72673851142608\n",
      "Iteration 196, the loss is 56.26068758604645, parameters k is 14.141367048081255 and b is -66.72596758277538\n",
      "Iteration 197, the loss is 56.260078710909454, parameters k is 14.141246264607448 and b is -66.72519667823067\n",
      "Iteration 198, the loss is 56.25946986507991, parameters k is 14.1411254515263 and b is -66.72442579733512\n",
      "Iteration 199, the loss is 56.258861048552646, parameters k is 14.141004611503018 and b is -66.72365493966926\n"
     ]
    }
   ],
   "source": [
    "#initialized parameters\n",
    "\n",
    "k = random.random() * 200 - 100  # -100 100\n",
    "b = random.random() * 200 - 100  # -100 100\n",
    "\n",
    "learning_rate = 1e-3\n",
    "\n",
    "iteration_num = 200 \n",
    "losses = []\n",
    "for i in range(iteration_num):\n",
    "    \n",
    "    price_use_current_parameters = [price(r, k, b) for r in X_rm]  # \\hat{y}\n",
    "    \n",
    "    current_loss = loss(y, price_use_current_parameters)\n",
    "    losses.append(current_loss)\n",
    "    print(\"Iteration {}, the loss is {}, parameters k is {} and b is {}\".format(i,current_loss,k,b))\n",
    "    \n",
    "    k_gradient = partial_derivative_k(X_rm, y, price_use_current_parameters)\n",
    "    b_gradient = partial_derivative_b(y, price_use_current_parameters)\n",
    "    \n",
    "    k = k + (-1 * k_gradient) * learning_rate\n",
    "    b = b + (-1 * b_gradient) * learning_rate\n",
    "best_k = k\n",
    "best_b = b"
   ]
  },
  {
   "cell_type": "code",
   "execution_count": 42,
   "metadata": {},
   "outputs": [
    {
     "data": {
      "text/plain": [
       "[<matplotlib.lines.Line2D at 0x1a21102f98>]"
      ]
     },
     "execution_count": 42,
     "metadata": {},
     "output_type": "execute_result"
    },
    {
     "data": {
      "image/png": "[encoded data removed]",
      "text/plain": [
       "<Figure size 432x288 with 1 Axes>"
      ]
     },
     "metadata": {
      "needs_background": "light"
     },
     "output_type": "display_data"
    }
   ],
   "source": [
    "plt.plot(list(range(iteration_num)),losses)"
   ]
  },
  {
   "cell_type": "code",
   "execution_count": 43,
   "metadata": {},
   "outputs": [
    {
     "data": {
      "text/plain": [
       "<matplotlib.collections.PathCollection at 0x1a2117c400>"
      ]
     },
     "execution_count": 43,
     "metadata": {},
     "output_type": "execute_result"
    },
    {
     "data": {
      "image/png": "[encoded data removed]",
      "text/plain": [
       "<Figure size 432x288 with 1 Axes>"
      ]
     },
     "metadata": {
      "needs_background": "light"
     },
     "output_type": "display_data"
    }
   ],
   "source": [
    "price_use_best_parameters = [price(r, best_k, best_b) for r in X_rm]\n",
    "\n",
    "plt.scatter(X_rm,y)\n",
    "plt.scatter(X_rm,price_use_current_parameters)"
   ]
  },
  {
   "cell_type": "code",
   "execution_count": null,
   "metadata": {},
   "outputs": [],
   "source": []
  },
  {
   "cell_type": "code",
   "execution_count": null,
   "metadata": {},
   "outputs": [],
   "source": []
  }
 ],
 "metadata": {
  "kernelspec": {
   "display_name": "Python 3",
   "language": "python",
   "name": "python3"
  },
  "language_info": {
   "codemirror_mode": {
    "name": "ipython",
    "version": 3
   },
   "file_extension": ".py",
   "mimetype": "text/x-python",
   "name": "python",
   "nbconvert_exporter": "python",
   "pygments_lexer": "ipython3",
   "version": "3.7.3"
  }
 },
 "nbformat": 4,
 "nbformat_minor": 2
}
